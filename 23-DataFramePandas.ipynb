{
 "cells": [
  {
   "cell_type": "code",
   "execution_count": 4,
   "id": "31b91de2",
   "metadata": {},
   "outputs": [],
   "source": [
    "import pandas as pd\n",
    "import numpy as np"
   ]
  },
  {
   "cell_type": "code",
   "execution_count": 6,
   "id": "77af3aa3",
   "metadata": {},
   "outputs": [],
   "source": [
    "data = np.random.randn(4,3)"
   ]
  },
  {
   "cell_type": "code",
   "execution_count": 7,
   "id": "10bb9840",
   "metadata": {},
   "outputs": [
    {
     "data": {
      "text/plain": [
       "array([[-0.39654378,  0.0242074 ,  0.0145444 ],\n",
       "       [-2.09324804, -1.01646041, -2.34948181],\n",
       "       [ 0.29318961, -0.27644122,  1.05972188],\n",
       "       [-1.01656315,  1.65000224, -1.37631539]])"
      ]
     },
     "execution_count": 7,
     "metadata": {},
     "output_type": "execute_result"
    }
   ],
   "source": [
    "data"
   ]
  },
  {
   "cell_type": "code",
   "execution_count": 9,
   "id": "0ac17fac",
   "metadata": {},
   "outputs": [],
   "source": [
    "dataFrame = pd.DataFrame(data) "
   ]
  },
  {
   "cell_type": "code",
   "execution_count": 10,
   "id": "418aad40",
   "metadata": {},
   "outputs": [
    {
     "data": {
      "text/html": [
       "<div>\n",
       "<style scoped>\n",
       "    .dataframe tbody tr th:only-of-type {\n",
       "        vertical-align: middle;\n",
       "    }\n",
       "\n",
       "    .dataframe tbody tr th {\n",
       "        vertical-align: top;\n",
       "    }\n",
       "\n",
       "    .dataframe thead th {\n",
       "        text-align: right;\n",
       "    }\n",
       "</style>\n",
       "<table border=\"1\" class=\"dataframe\">\n",
       "  <thead>\n",
       "    <tr style=\"text-align: right;\">\n",
       "      <th></th>\n",
       "      <th>0</th>\n",
       "      <th>1</th>\n",
       "      <th>2</th>\n",
       "    </tr>\n",
       "  </thead>\n",
       "  <tbody>\n",
       "    <tr>\n",
       "      <th>0</th>\n",
       "      <td>-0.396544</td>\n",
       "      <td>0.024207</td>\n",
       "      <td>0.014544</td>\n",
       "    </tr>\n",
       "    <tr>\n",
       "      <th>1</th>\n",
       "      <td>-2.093248</td>\n",
       "      <td>-1.016460</td>\n",
       "      <td>-2.349482</td>\n",
       "    </tr>\n",
       "    <tr>\n",
       "      <th>2</th>\n",
       "      <td>0.293190</td>\n",
       "      <td>-0.276441</td>\n",
       "      <td>1.059722</td>\n",
       "    </tr>\n",
       "    <tr>\n",
       "      <th>3</th>\n",
       "      <td>-1.016563</td>\n",
       "      <td>1.650002</td>\n",
       "      <td>-1.376315</td>\n",
       "    </tr>\n",
       "  </tbody>\n",
       "</table>\n",
       "</div>"
      ],
      "text/plain": [
       "          0         1         2\n",
       "0 -0.396544  0.024207  0.014544\n",
       "1 -2.093248 -1.016460 -2.349482\n",
       "2  0.293190 -0.276441  1.059722\n",
       "3 -1.016563  1.650002 -1.376315"
      ]
     },
     "execution_count": 10,
     "metadata": {},
     "output_type": "execute_result"
    }
   ],
   "source": [
    "dataFrame"
   ]
  },
  {
   "cell_type": "code",
   "execution_count": 12,
   "id": "ea878d80",
   "metadata": {},
   "outputs": [
    {
     "data": {
      "text/plain": [
       "pandas.core.series.Series"
      ]
     },
     "execution_count": 12,
     "metadata": {},
     "output_type": "execute_result"
    }
   ],
   "source": [
    "type(dataFrame[0])"
   ]
  },
  {
   "cell_type": "code",
   "execution_count": 14,
   "id": "6d9ee7cb",
   "metadata": {},
   "outputs": [],
   "source": [
    "yeniDataFrame = pd.DataFrame(data,index=[\"Atil\",\"Zeynep\",\"Atlas\",\"Mehmet\"], columns = [\"Maas\",\"Yas\",\"Calisma Saati\"])"
   ]
  },
  {
   "cell_type": "code",
   "execution_count": 15,
   "id": "a70d533e",
   "metadata": {},
   "outputs": [
    {
     "data": {
      "text/html": [
       "<div>\n",
       "<style scoped>\n",
       "    .dataframe tbody tr th:only-of-type {\n",
       "        vertical-align: middle;\n",
       "    }\n",
       "\n",
       "    .dataframe tbody tr th {\n",
       "        vertical-align: top;\n",
       "    }\n",
       "\n",
       "    .dataframe thead th {\n",
       "        text-align: right;\n",
       "    }\n",
       "</style>\n",
       "<table border=\"1\" class=\"dataframe\">\n",
       "  <thead>\n",
       "    <tr style=\"text-align: right;\">\n",
       "      <th></th>\n",
       "      <th>Maas</th>\n",
       "      <th>Yas</th>\n",
       "      <th>Calisma Saati</th>\n",
       "    </tr>\n",
       "  </thead>\n",
       "  <tbody>\n",
       "    <tr>\n",
       "      <th>Atil</th>\n",
       "      <td>-0.396544</td>\n",
       "      <td>0.024207</td>\n",
       "      <td>0.014544</td>\n",
       "    </tr>\n",
       "    <tr>\n",
       "      <th>Zeynep</th>\n",
       "      <td>-2.093248</td>\n",
       "      <td>-1.016460</td>\n",
       "      <td>-2.349482</td>\n",
       "    </tr>\n",
       "    <tr>\n",
       "      <th>Atlas</th>\n",
       "      <td>0.293190</td>\n",
       "      <td>-0.276441</td>\n",
       "      <td>1.059722</td>\n",
       "    </tr>\n",
       "    <tr>\n",
       "      <th>Mehmet</th>\n",
       "      <td>-1.016563</td>\n",
       "      <td>1.650002</td>\n",
       "      <td>-1.376315</td>\n",
       "    </tr>\n",
       "  </tbody>\n",
       "</table>\n",
       "</div>"
      ],
      "text/plain": [
       "            Maas       Yas  Calisma Saati\n",
       "Atil   -0.396544  0.024207       0.014544\n",
       "Zeynep -2.093248 -1.016460      -2.349482\n",
       "Atlas   0.293190 -0.276441       1.059722\n",
       "Mehmet -1.016563  1.650002      -1.376315"
      ]
     },
     "execution_count": 15,
     "metadata": {},
     "output_type": "execute_result"
    }
   ],
   "source": [
    "yeniDataFrame"
   ]
  },
  {
   "cell_type": "code",
   "execution_count": 16,
   "id": "ab6913de",
   "metadata": {},
   "outputs": [
    {
     "data": {
      "text/plain": [
       "Atil      0.024207\n",
       "Zeynep   -1.016460\n",
       "Atlas    -0.276441\n",
       "Mehmet    1.650002\n",
       "Name: Yas, dtype: float64"
      ]
     },
     "execution_count": 16,
     "metadata": {},
     "output_type": "execute_result"
    }
   ],
   "source": [
    "yeniDataFrame[\"Yas\"]"
   ]
  },
  {
   "cell_type": "code",
   "execution_count": 17,
   "id": "8596fe85",
   "metadata": {},
   "outputs": [
    {
     "data": {
      "text/plain": [
       "Atil      0.014544\n",
       "Zeynep   -2.349482\n",
       "Atlas     1.059722\n",
       "Mehmet   -1.376315\n",
       "Name: Calisma Saati, dtype: float64"
      ]
     },
     "execution_count": 17,
     "metadata": {},
     "output_type": "execute_result"
    }
   ],
   "source": [
    "yeniDataFrame[\"Calisma Saati\"]"
   ]
  },
  {
   "cell_type": "code",
   "execution_count": 18,
   "id": "8755005e",
   "metadata": {},
   "outputs": [
    {
     "data": {
      "text/html": [
       "<div>\n",
       "<style scoped>\n",
       "    .dataframe tbody tr th:only-of-type {\n",
       "        vertical-align: middle;\n",
       "    }\n",
       "\n",
       "    .dataframe tbody tr th {\n",
       "        vertical-align: top;\n",
       "    }\n",
       "\n",
       "    .dataframe thead th {\n",
       "        text-align: right;\n",
       "    }\n",
       "</style>\n",
       "<table border=\"1\" class=\"dataframe\">\n",
       "  <thead>\n",
       "    <tr style=\"text-align: right;\">\n",
       "      <th></th>\n",
       "      <th>Maas</th>\n",
       "      <th>Yas</th>\n",
       "    </tr>\n",
       "  </thead>\n",
       "  <tbody>\n",
       "    <tr>\n",
       "      <th>Atil</th>\n",
       "      <td>-0.396544</td>\n",
       "      <td>0.024207</td>\n",
       "    </tr>\n",
       "    <tr>\n",
       "      <th>Zeynep</th>\n",
       "      <td>-2.093248</td>\n",
       "      <td>-1.016460</td>\n",
       "    </tr>\n",
       "    <tr>\n",
       "      <th>Atlas</th>\n",
       "      <td>0.293190</td>\n",
       "      <td>-0.276441</td>\n",
       "    </tr>\n",
       "    <tr>\n",
       "      <th>Mehmet</th>\n",
       "      <td>-1.016563</td>\n",
       "      <td>1.650002</td>\n",
       "    </tr>\n",
       "  </tbody>\n",
       "</table>\n",
       "</div>"
      ],
      "text/plain": [
       "            Maas       Yas\n",
       "Atil   -0.396544  0.024207\n",
       "Zeynep -2.093248 -1.016460\n",
       "Atlas   0.293190 -0.276441\n",
       "Mehmet -1.016563  1.650002"
      ]
     },
     "execution_count": 18,
     "metadata": {},
     "output_type": "execute_result"
    }
   ],
   "source": [
    "yeniDataFrame[[\"Maas\",\"Yas\"]]"
   ]
  },
  {
   "cell_type": "code",
   "execution_count": 20,
   "id": "7f0b73c0",
   "metadata": {},
   "outputs": [
    {
     "data": {
      "text/plain": [
       "Maas             0.293190\n",
       "Yas             -0.276441\n",
       "Calisma Saati    1.059722\n",
       "Name: Atlas, dtype: float64"
      ]
     },
     "execution_count": 20,
     "metadata": {},
     "output_type": "execute_result"
    }
   ],
   "source": [
    "yeniDataFrame.loc[\"Atlas\"]"
   ]
  },
  {
   "cell_type": "code",
   "execution_count": 19,
   "id": "5c33b34f",
   "metadata": {},
   "outputs": [
    {
     "data": {
      "text/plain": [
       "Maas            -2.093248\n",
       "Yas             -1.016460\n",
       "Calisma Saati   -2.349482\n",
       "Name: Zeynep, dtype: float64"
      ]
     },
     "execution_count": 19,
     "metadata": {},
     "output_type": "execute_result"
    }
   ],
   "source": [
    "yeniDataFrame.loc[\"Zeynep\"]"
   ]
  },
  {
   "cell_type": "code",
   "execution_count": 21,
   "id": "c9aa29dd",
   "metadata": {},
   "outputs": [
    {
     "data": {
      "text/plain": [
       "Maas            -2.093248\n",
       "Yas             -1.016460\n",
       "Calisma Saati   -2.349482\n",
       "Name: Zeynep, dtype: float64"
      ]
     },
     "execution_count": 21,
     "metadata": {},
     "output_type": "execute_result"
    }
   ],
   "source": [
    "yeniDataFrame.iloc[1]  #Zeynep in bilgileri"
   ]
  },
  {
   "cell_type": "code",
   "execution_count": 22,
   "id": "deed273b",
   "metadata": {},
   "outputs": [
    {
     "data": {
      "text/html": [
       "<div>\n",
       "<style scoped>\n",
       "    .dataframe tbody tr th:only-of-type {\n",
       "        vertical-align: middle;\n",
       "    }\n",
       "\n",
       "    .dataframe tbody tr th {\n",
       "        vertical-align: top;\n",
       "    }\n",
       "\n",
       "    .dataframe thead th {\n",
       "        text-align: right;\n",
       "    }\n",
       "</style>\n",
       "<table border=\"1\" class=\"dataframe\">\n",
       "  <thead>\n",
       "    <tr style=\"text-align: right;\">\n",
       "      <th></th>\n",
       "      <th>Maas</th>\n",
       "      <th>Yas</th>\n",
       "      <th>Calisma Saati</th>\n",
       "    </tr>\n",
       "  </thead>\n",
       "  <tbody>\n",
       "    <tr>\n",
       "      <th>Atil</th>\n",
       "      <td>-0.396544</td>\n",
       "      <td>0.024207</td>\n",
       "      <td>0.014544</td>\n",
       "    </tr>\n",
       "    <tr>\n",
       "      <th>Zeynep</th>\n",
       "      <td>-2.093248</td>\n",
       "      <td>-1.016460</td>\n",
       "      <td>-2.349482</td>\n",
       "    </tr>\n",
       "    <tr>\n",
       "      <th>Atlas</th>\n",
       "      <td>0.293190</td>\n",
       "      <td>-0.276441</td>\n",
       "      <td>1.059722</td>\n",
       "    </tr>\n",
       "    <tr>\n",
       "      <th>Mehmet</th>\n",
       "      <td>-1.016563</td>\n",
       "      <td>1.650002</td>\n",
       "      <td>-1.376315</td>\n",
       "    </tr>\n",
       "  </tbody>\n",
       "</table>\n",
       "</div>"
      ],
      "text/plain": [
       "            Maas       Yas  Calisma Saati\n",
       "Atil   -0.396544  0.024207       0.014544\n",
       "Zeynep -2.093248 -1.016460      -2.349482\n",
       "Atlas   0.293190 -0.276441       1.059722\n",
       "Mehmet -1.016563  1.650002      -1.376315"
      ]
     },
     "execution_count": 22,
     "metadata": {},
     "output_type": "execute_result"
    }
   ],
   "source": [
    "yeniDataFrame"
   ]
  },
  {
   "cell_type": "code",
   "execution_count": 24,
   "id": "675cacab",
   "metadata": {},
   "outputs": [],
   "source": [
    "yeniDataFrame[\"Emeklilik Yasi\"] = yeniDataFrame[\"Yas\"] + yeniDataFrame[\"Yas\"]"
   ]
  },
  {
   "cell_type": "code",
   "execution_count": 25,
   "id": "d1b0b183",
   "metadata": {},
   "outputs": [
    {
     "data": {
      "text/html": [
       "<div>\n",
       "<style scoped>\n",
       "    .dataframe tbody tr th:only-of-type {\n",
       "        vertical-align: middle;\n",
       "    }\n",
       "\n",
       "    .dataframe tbody tr th {\n",
       "        vertical-align: top;\n",
       "    }\n",
       "\n",
       "    .dataframe thead th {\n",
       "        text-align: right;\n",
       "    }\n",
       "</style>\n",
       "<table border=\"1\" class=\"dataframe\">\n",
       "  <thead>\n",
       "    <tr style=\"text-align: right;\">\n",
       "      <th></th>\n",
       "      <th>Maas</th>\n",
       "      <th>Yas</th>\n",
       "      <th>Calisma Saati</th>\n",
       "      <th>Emeklilik Yasi</th>\n",
       "    </tr>\n",
       "  </thead>\n",
       "  <tbody>\n",
       "    <tr>\n",
       "      <th>Atil</th>\n",
       "      <td>-0.396544</td>\n",
       "      <td>0.024207</td>\n",
       "      <td>0.014544</td>\n",
       "      <td>0.048415</td>\n",
       "    </tr>\n",
       "    <tr>\n",
       "      <th>Zeynep</th>\n",
       "      <td>-2.093248</td>\n",
       "      <td>-1.016460</td>\n",
       "      <td>-2.349482</td>\n",
       "      <td>-2.032921</td>\n",
       "    </tr>\n",
       "    <tr>\n",
       "      <th>Atlas</th>\n",
       "      <td>0.293190</td>\n",
       "      <td>-0.276441</td>\n",
       "      <td>1.059722</td>\n",
       "      <td>-0.552882</td>\n",
       "    </tr>\n",
       "    <tr>\n",
       "      <th>Mehmet</th>\n",
       "      <td>-1.016563</td>\n",
       "      <td>1.650002</td>\n",
       "      <td>-1.376315</td>\n",
       "      <td>3.300004</td>\n",
       "    </tr>\n",
       "  </tbody>\n",
       "</table>\n",
       "</div>"
      ],
      "text/plain": [
       "            Maas       Yas  Calisma Saati  Emeklilik Yasi\n",
       "Atil   -0.396544  0.024207       0.014544        0.048415\n",
       "Zeynep -2.093248 -1.016460      -2.349482       -2.032921\n",
       "Atlas   0.293190 -0.276441       1.059722       -0.552882\n",
       "Mehmet -1.016563  1.650002      -1.376315        3.300004"
      ]
     },
     "execution_count": 25,
     "metadata": {},
     "output_type": "execute_result"
    }
   ],
   "source": [
    "yeniDataFrame"
   ]
  },
  {
   "cell_type": "code",
   "execution_count": 27,
   "id": "11f0f8ce",
   "metadata": {},
   "outputs": [
    {
     "data": {
      "text/html": [
       "<div>\n",
       "<style scoped>\n",
       "    .dataframe tbody tr th:only-of-type {\n",
       "        vertical-align: middle;\n",
       "    }\n",
       "\n",
       "    .dataframe tbody tr th {\n",
       "        vertical-align: top;\n",
       "    }\n",
       "\n",
       "    .dataframe thead th {\n",
       "        text-align: right;\n",
       "    }\n",
       "</style>\n",
       "<table border=\"1\" class=\"dataframe\">\n",
       "  <thead>\n",
       "    <tr style=\"text-align: right;\">\n",
       "      <th></th>\n",
       "      <th>Maas</th>\n",
       "      <th>Yas</th>\n",
       "      <th>Calisma Saati</th>\n",
       "    </tr>\n",
       "  </thead>\n",
       "  <tbody>\n",
       "    <tr>\n",
       "      <th>Atil</th>\n",
       "      <td>-0.396544</td>\n",
       "      <td>0.024207</td>\n",
       "      <td>0.014544</td>\n",
       "    </tr>\n",
       "    <tr>\n",
       "      <th>Zeynep</th>\n",
       "      <td>-2.093248</td>\n",
       "      <td>-1.016460</td>\n",
       "      <td>-2.349482</td>\n",
       "    </tr>\n",
       "    <tr>\n",
       "      <th>Atlas</th>\n",
       "      <td>0.293190</td>\n",
       "      <td>-0.276441</td>\n",
       "      <td>1.059722</td>\n",
       "    </tr>\n",
       "    <tr>\n",
       "      <th>Mehmet</th>\n",
       "      <td>-1.016563</td>\n",
       "      <td>1.650002</td>\n",
       "      <td>-1.376315</td>\n",
       "    </tr>\n",
       "  </tbody>\n",
       "</table>\n",
       "</div>"
      ],
      "text/plain": [
       "            Maas       Yas  Calisma Saati\n",
       "Atil   -0.396544  0.024207       0.014544\n",
       "Zeynep -2.093248 -1.016460      -2.349482\n",
       "Atlas   0.293190 -0.276441       1.059722\n",
       "Mehmet -1.016563  1.650002      -1.376315"
      ]
     },
     "execution_count": 27,
     "metadata": {},
     "output_type": "execute_result"
    }
   ],
   "source": [
    "yeniDataFrame.drop(\"Emeklilik Yasi\",axis=1)"
   ]
  },
  {
   "cell_type": "code",
   "execution_count": 28,
   "id": "8b0c9270",
   "metadata": {},
   "outputs": [
    {
     "data": {
      "text/html": [
       "<div>\n",
       "<style scoped>\n",
       "    .dataframe tbody tr th:only-of-type {\n",
       "        vertical-align: middle;\n",
       "    }\n",
       "\n",
       "    .dataframe tbody tr th {\n",
       "        vertical-align: top;\n",
       "    }\n",
       "\n",
       "    .dataframe thead th {\n",
       "        text-align: right;\n",
       "    }\n",
       "</style>\n",
       "<table border=\"1\" class=\"dataframe\">\n",
       "  <thead>\n",
       "    <tr style=\"text-align: right;\">\n",
       "      <th></th>\n",
       "      <th>Maas</th>\n",
       "      <th>Yas</th>\n",
       "      <th>Calisma Saati</th>\n",
       "      <th>Emeklilik Yasi</th>\n",
       "    </tr>\n",
       "  </thead>\n",
       "  <tbody>\n",
       "    <tr>\n",
       "      <th>Atil</th>\n",
       "      <td>-0.396544</td>\n",
       "      <td>0.024207</td>\n",
       "      <td>0.014544</td>\n",
       "      <td>0.048415</td>\n",
       "    </tr>\n",
       "    <tr>\n",
       "      <th>Zeynep</th>\n",
       "      <td>-2.093248</td>\n",
       "      <td>-1.016460</td>\n",
       "      <td>-2.349482</td>\n",
       "      <td>-2.032921</td>\n",
       "    </tr>\n",
       "    <tr>\n",
       "      <th>Atlas</th>\n",
       "      <td>0.293190</td>\n",
       "      <td>-0.276441</td>\n",
       "      <td>1.059722</td>\n",
       "      <td>-0.552882</td>\n",
       "    </tr>\n",
       "  </tbody>\n",
       "</table>\n",
       "</div>"
      ],
      "text/plain": [
       "            Maas       Yas  Calisma Saati  Emeklilik Yasi\n",
       "Atil   -0.396544  0.024207       0.014544        0.048415\n",
       "Zeynep -2.093248 -1.016460      -2.349482       -2.032921\n",
       "Atlas   0.293190 -0.276441       1.059722       -0.552882"
      ]
     },
     "execution_count": 28,
     "metadata": {},
     "output_type": "execute_result"
    }
   ],
   "source": [
    "yeniDataFrame.drop(\"Mehmet\")"
   ]
  },
  {
   "cell_type": "code",
   "execution_count": 29,
   "id": "aa27ae7a",
   "metadata": {},
   "outputs": [
    {
     "data": {
      "text/html": [
       "<div>\n",
       "<style scoped>\n",
       "    .dataframe tbody tr th:only-of-type {\n",
       "        vertical-align: middle;\n",
       "    }\n",
       "\n",
       "    .dataframe tbody tr th {\n",
       "        vertical-align: top;\n",
       "    }\n",
       "\n",
       "    .dataframe thead th {\n",
       "        text-align: right;\n",
       "    }\n",
       "</style>\n",
       "<table border=\"1\" class=\"dataframe\">\n",
       "  <thead>\n",
       "    <tr style=\"text-align: right;\">\n",
       "      <th></th>\n",
       "      <th>Maas</th>\n",
       "      <th>Yas</th>\n",
       "      <th>Calisma Saati</th>\n",
       "      <th>Emeklilik Yasi</th>\n",
       "    </tr>\n",
       "  </thead>\n",
       "  <tbody>\n",
       "    <tr>\n",
       "      <th>Atil</th>\n",
       "      <td>-0.396544</td>\n",
       "      <td>0.024207</td>\n",
       "      <td>0.014544</td>\n",
       "      <td>0.048415</td>\n",
       "    </tr>\n",
       "    <tr>\n",
       "      <th>Zeynep</th>\n",
       "      <td>-2.093248</td>\n",
       "      <td>-1.016460</td>\n",
       "      <td>-2.349482</td>\n",
       "      <td>-2.032921</td>\n",
       "    </tr>\n",
       "    <tr>\n",
       "      <th>Atlas</th>\n",
       "      <td>0.293190</td>\n",
       "      <td>-0.276441</td>\n",
       "      <td>1.059722</td>\n",
       "      <td>-0.552882</td>\n",
       "    </tr>\n",
       "    <tr>\n",
       "      <th>Mehmet</th>\n",
       "      <td>-1.016563</td>\n",
       "      <td>1.650002</td>\n",
       "      <td>-1.376315</td>\n",
       "      <td>3.300004</td>\n",
       "    </tr>\n",
       "  </tbody>\n",
       "</table>\n",
       "</div>"
      ],
      "text/plain": [
       "            Maas       Yas  Calisma Saati  Emeklilik Yasi\n",
       "Atil   -0.396544  0.024207       0.014544        0.048415\n",
       "Zeynep -2.093248 -1.016460      -2.349482       -2.032921\n",
       "Atlas   0.293190 -0.276441       1.059722       -0.552882\n",
       "Mehmet -1.016563  1.650002      -1.376315        3.300004"
      ]
     },
     "execution_count": 29,
     "metadata": {},
     "output_type": "execute_result"
    }
   ],
   "source": [
    "yeniDataFrame"
   ]
  },
  {
   "cell_type": "code",
   "execution_count": 30,
   "id": "3a0ca9a9",
   "metadata": {},
   "outputs": [],
   "source": [
    "yeniDataFrame.drop(\"Emeklilik Yasi\",axis=1,inplace=True)"
   ]
  },
  {
   "cell_type": "code",
   "execution_count": 31,
   "id": "02dbb34a",
   "metadata": {},
   "outputs": [
    {
     "data": {
      "text/html": [
       "<div>\n",
       "<style scoped>\n",
       "    .dataframe tbody tr th:only-of-type {\n",
       "        vertical-align: middle;\n",
       "    }\n",
       "\n",
       "    .dataframe tbody tr th {\n",
       "        vertical-align: top;\n",
       "    }\n",
       "\n",
       "    .dataframe thead th {\n",
       "        text-align: right;\n",
       "    }\n",
       "</style>\n",
       "<table border=\"1\" class=\"dataframe\">\n",
       "  <thead>\n",
       "    <tr style=\"text-align: right;\">\n",
       "      <th></th>\n",
       "      <th>Maas</th>\n",
       "      <th>Yas</th>\n",
       "      <th>Calisma Saati</th>\n",
       "    </tr>\n",
       "  </thead>\n",
       "  <tbody>\n",
       "    <tr>\n",
       "      <th>Atil</th>\n",
       "      <td>-0.396544</td>\n",
       "      <td>0.024207</td>\n",
       "      <td>0.014544</td>\n",
       "    </tr>\n",
       "    <tr>\n",
       "      <th>Zeynep</th>\n",
       "      <td>-2.093248</td>\n",
       "      <td>-1.016460</td>\n",
       "      <td>-2.349482</td>\n",
       "    </tr>\n",
       "    <tr>\n",
       "      <th>Atlas</th>\n",
       "      <td>0.293190</td>\n",
       "      <td>-0.276441</td>\n",
       "      <td>1.059722</td>\n",
       "    </tr>\n",
       "    <tr>\n",
       "      <th>Mehmet</th>\n",
       "      <td>-1.016563</td>\n",
       "      <td>1.650002</td>\n",
       "      <td>-1.376315</td>\n",
       "    </tr>\n",
       "  </tbody>\n",
       "</table>\n",
       "</div>"
      ],
      "text/plain": [
       "            Maas       Yas  Calisma Saati\n",
       "Atil   -0.396544  0.024207       0.014544\n",
       "Zeynep -2.093248 -1.016460      -2.349482\n",
       "Atlas   0.293190 -0.276441       1.059722\n",
       "Mehmet -1.016563  1.650002      -1.376315"
      ]
     },
     "execution_count": 31,
     "metadata": {},
     "output_type": "execute_result"
    }
   ],
   "source": [
    "yeniDataFrame"
   ]
  },
  {
   "cell_type": "code",
   "execution_count": 32,
   "id": "7b7447a5",
   "metadata": {},
   "outputs": [
    {
     "data": {
      "text/plain": [
       "-0.3965437799547286"
      ]
     },
     "execution_count": 32,
     "metadata": {},
     "output_type": "execute_result"
    }
   ],
   "source": [
    "yeniDataFrame.loc[\"Atil\"][\"Maas\"]"
   ]
  },
  {
   "cell_type": "code",
   "execution_count": 33,
   "id": "b95ed42c",
   "metadata": {},
   "outputs": [
    {
     "data": {
      "text/plain": [
       "-0.2764412178711316"
      ]
     },
     "execution_count": 33,
     "metadata": {},
     "output_type": "execute_result"
    }
   ],
   "source": [
    "yeniDataFrame.loc[\"Atlas\",\"Yas\"]"
   ]
  },
  {
   "cell_type": "code",
   "execution_count": 35,
   "id": "dbeff570",
   "metadata": {},
   "outputs": [],
   "source": [
    "booleanFrame = yeniDataFrame < 0"
   ]
  },
  {
   "cell_type": "code",
   "execution_count": 36,
   "id": "26e70ce0",
   "metadata": {},
   "outputs": [
    {
     "data": {
      "text/html": [
       "<div>\n",
       "<style scoped>\n",
       "    .dataframe tbody tr th:only-of-type {\n",
       "        vertical-align: middle;\n",
       "    }\n",
       "\n",
       "    .dataframe tbody tr th {\n",
       "        vertical-align: top;\n",
       "    }\n",
       "\n",
       "    .dataframe thead th {\n",
       "        text-align: right;\n",
       "    }\n",
       "</style>\n",
       "<table border=\"1\" class=\"dataframe\">\n",
       "  <thead>\n",
       "    <tr style=\"text-align: right;\">\n",
       "      <th></th>\n",
       "      <th>Maas</th>\n",
       "      <th>Yas</th>\n",
       "      <th>Calisma Saati</th>\n",
       "    </tr>\n",
       "  </thead>\n",
       "  <tbody>\n",
       "    <tr>\n",
       "      <th>Atil</th>\n",
       "      <td>True</td>\n",
       "      <td>False</td>\n",
       "      <td>False</td>\n",
       "    </tr>\n",
       "    <tr>\n",
       "      <th>Zeynep</th>\n",
       "      <td>True</td>\n",
       "      <td>True</td>\n",
       "      <td>True</td>\n",
       "    </tr>\n",
       "    <tr>\n",
       "      <th>Atlas</th>\n",
       "      <td>False</td>\n",
       "      <td>True</td>\n",
       "      <td>False</td>\n",
       "    </tr>\n",
       "    <tr>\n",
       "      <th>Mehmet</th>\n",
       "      <td>True</td>\n",
       "      <td>False</td>\n",
       "      <td>True</td>\n",
       "    </tr>\n",
       "  </tbody>\n",
       "</table>\n",
       "</div>"
      ],
      "text/plain": [
       "         Maas    Yas  Calisma Saati\n",
       "Atil     True  False          False\n",
       "Zeynep   True   True           True\n",
       "Atlas   False   True          False\n",
       "Mehmet   True  False           True"
      ]
     },
     "execution_count": 36,
     "metadata": {},
     "output_type": "execute_result"
    }
   ],
   "source": [
    "booleanFrame"
   ]
  },
  {
   "cell_type": "code",
   "execution_count": 37,
   "id": "e696867d",
   "metadata": {},
   "outputs": [
    {
     "data": {
      "text/html": [
       "<div>\n",
       "<style scoped>\n",
       "    .dataframe tbody tr th:only-of-type {\n",
       "        vertical-align: middle;\n",
       "    }\n",
       "\n",
       "    .dataframe tbody tr th {\n",
       "        vertical-align: top;\n",
       "    }\n",
       "\n",
       "    .dataframe thead th {\n",
       "        text-align: right;\n",
       "    }\n",
       "</style>\n",
       "<table border=\"1\" class=\"dataframe\">\n",
       "  <thead>\n",
       "    <tr style=\"text-align: right;\">\n",
       "      <th></th>\n",
       "      <th>Maas</th>\n",
       "      <th>Yas</th>\n",
       "      <th>Calisma Saati</th>\n",
       "    </tr>\n",
       "  </thead>\n",
       "  <tbody>\n",
       "    <tr>\n",
       "      <th>Atil</th>\n",
       "      <td>-0.396544</td>\n",
       "      <td>0.024207</td>\n",
       "      <td>0.014544</td>\n",
       "    </tr>\n",
       "    <tr>\n",
       "      <th>Zeynep</th>\n",
       "      <td>-2.093248</td>\n",
       "      <td>-1.016460</td>\n",
       "      <td>-2.349482</td>\n",
       "    </tr>\n",
       "    <tr>\n",
       "      <th>Atlas</th>\n",
       "      <td>0.293190</td>\n",
       "      <td>-0.276441</td>\n",
       "      <td>1.059722</td>\n",
       "    </tr>\n",
       "    <tr>\n",
       "      <th>Mehmet</th>\n",
       "      <td>-1.016563</td>\n",
       "      <td>1.650002</td>\n",
       "      <td>-1.376315</td>\n",
       "    </tr>\n",
       "  </tbody>\n",
       "</table>\n",
       "</div>"
      ],
      "text/plain": [
       "            Maas       Yas  Calisma Saati\n",
       "Atil   -0.396544  0.024207       0.014544\n",
       "Zeynep -2.093248 -1.016460      -2.349482\n",
       "Atlas   0.293190 -0.276441       1.059722\n",
       "Mehmet -1.016563  1.650002      -1.376315"
      ]
     },
     "execution_count": 37,
     "metadata": {},
     "output_type": "execute_result"
    }
   ],
   "source": [
    "yeniDataFrame"
   ]
  },
  {
   "cell_type": "code",
   "execution_count": 38,
   "id": "3057bc02",
   "metadata": {},
   "outputs": [
    {
     "data": {
      "text/html": [
       "<div>\n",
       "<style scoped>\n",
       "    .dataframe tbody tr th:only-of-type {\n",
       "        vertical-align: middle;\n",
       "    }\n",
       "\n",
       "    .dataframe tbody tr th {\n",
       "        vertical-align: top;\n",
       "    }\n",
       "\n",
       "    .dataframe thead th {\n",
       "        text-align: right;\n",
       "    }\n",
       "</style>\n",
       "<table border=\"1\" class=\"dataframe\">\n",
       "  <thead>\n",
       "    <tr style=\"text-align: right;\">\n",
       "      <th></th>\n",
       "      <th>Maas</th>\n",
       "      <th>Yas</th>\n",
       "      <th>Calisma Saati</th>\n",
       "    </tr>\n",
       "  </thead>\n",
       "  <tbody>\n",
       "    <tr>\n",
       "      <th>Atil</th>\n",
       "      <td>-0.396544</td>\n",
       "      <td>NaN</td>\n",
       "      <td>NaN</td>\n",
       "    </tr>\n",
       "    <tr>\n",
       "      <th>Zeynep</th>\n",
       "      <td>-2.093248</td>\n",
       "      <td>-1.016460</td>\n",
       "      <td>-2.349482</td>\n",
       "    </tr>\n",
       "    <tr>\n",
       "      <th>Atlas</th>\n",
       "      <td>NaN</td>\n",
       "      <td>-0.276441</td>\n",
       "      <td>NaN</td>\n",
       "    </tr>\n",
       "    <tr>\n",
       "      <th>Mehmet</th>\n",
       "      <td>-1.016563</td>\n",
       "      <td>NaN</td>\n",
       "      <td>-1.376315</td>\n",
       "    </tr>\n",
       "  </tbody>\n",
       "</table>\n",
       "</div>"
      ],
      "text/plain": [
       "            Maas       Yas  Calisma Saati\n",
       "Atil   -0.396544       NaN            NaN\n",
       "Zeynep -2.093248 -1.016460      -2.349482\n",
       "Atlas        NaN -0.276441            NaN\n",
       "Mehmet -1.016563       NaN      -1.376315"
      ]
     },
     "execution_count": 38,
     "metadata": {},
     "output_type": "execute_result"
    }
   ],
   "source": [
    "yeniDataFrame[booleanFrame]"
   ]
  },
  {
   "cell_type": "code",
   "execution_count": 39,
   "id": "4f3fbbb2",
   "metadata": {},
   "outputs": [
    {
     "data": {
      "text/html": [
       "<div>\n",
       "<style scoped>\n",
       "    .dataframe tbody tr th:only-of-type {\n",
       "        vertical-align: middle;\n",
       "    }\n",
       "\n",
       "    .dataframe tbody tr th {\n",
       "        vertical-align: top;\n",
       "    }\n",
       "\n",
       "    .dataframe thead th {\n",
       "        text-align: right;\n",
       "    }\n",
       "</style>\n",
       "<table border=\"1\" class=\"dataframe\">\n",
       "  <thead>\n",
       "    <tr style=\"text-align: right;\">\n",
       "      <th></th>\n",
       "      <th>Maas</th>\n",
       "      <th>Yas</th>\n",
       "      <th>Calisma Saati</th>\n",
       "    </tr>\n",
       "  </thead>\n",
       "  <tbody>\n",
       "    <tr>\n",
       "      <th>Atil</th>\n",
       "      <td>NaN</td>\n",
       "      <td>0.024207</td>\n",
       "      <td>0.014544</td>\n",
       "    </tr>\n",
       "    <tr>\n",
       "      <th>Zeynep</th>\n",
       "      <td>NaN</td>\n",
       "      <td>NaN</td>\n",
       "      <td>NaN</td>\n",
       "    </tr>\n",
       "    <tr>\n",
       "      <th>Atlas</th>\n",
       "      <td>0.29319</td>\n",
       "      <td>NaN</td>\n",
       "      <td>1.059722</td>\n",
       "    </tr>\n",
       "    <tr>\n",
       "      <th>Mehmet</th>\n",
       "      <td>NaN</td>\n",
       "      <td>1.650002</td>\n",
       "      <td>NaN</td>\n",
       "    </tr>\n",
       "  </tbody>\n",
       "</table>\n",
       "</div>"
      ],
      "text/plain": [
       "           Maas       Yas  Calisma Saati\n",
       "Atil        NaN  0.024207       0.014544\n",
       "Zeynep      NaN       NaN            NaN\n",
       "Atlas   0.29319       NaN       1.059722\n",
       "Mehmet      NaN  1.650002            NaN"
      ]
     },
     "execution_count": 39,
     "metadata": {},
     "output_type": "execute_result"
    }
   ],
   "source": [
    "yeniDataFrame[yeniDataFrame > 0]"
   ]
  },
  {
   "cell_type": "code",
   "execution_count": 41,
   "id": "a2e2854f",
   "metadata": {},
   "outputs": [
    {
     "data": {
      "text/plain": [
       "Atil       True\n",
       "Zeynep    False\n",
       "Atlas     False\n",
       "Mehmet     True\n",
       "Name: Yas, dtype: bool"
      ]
     },
     "execution_count": 41,
     "metadata": {},
     "output_type": "execute_result"
    }
   ],
   "source": [
    "yeniDataFrame[\"Yas\"] > 0"
   ]
  },
  {
   "cell_type": "code",
   "execution_count": 42,
   "id": "355b2770",
   "metadata": {},
   "outputs": [
    {
     "data": {
      "text/html": [
       "<div>\n",
       "<style scoped>\n",
       "    .dataframe tbody tr th:only-of-type {\n",
       "        vertical-align: middle;\n",
       "    }\n",
       "\n",
       "    .dataframe tbody tr th {\n",
       "        vertical-align: top;\n",
       "    }\n",
       "\n",
       "    .dataframe thead th {\n",
       "        text-align: right;\n",
       "    }\n",
       "</style>\n",
       "<table border=\"1\" class=\"dataframe\">\n",
       "  <thead>\n",
       "    <tr style=\"text-align: right;\">\n",
       "      <th></th>\n",
       "      <th>Maas</th>\n",
       "      <th>Yas</th>\n",
       "      <th>Calisma Saati</th>\n",
       "    </tr>\n",
       "  </thead>\n",
       "  <tbody>\n",
       "    <tr>\n",
       "      <th>Atil</th>\n",
       "      <td>-0.396544</td>\n",
       "      <td>0.024207</td>\n",
       "      <td>0.014544</td>\n",
       "    </tr>\n",
       "    <tr>\n",
       "      <th>Mehmet</th>\n",
       "      <td>-1.016563</td>\n",
       "      <td>1.650002</td>\n",
       "      <td>-1.376315</td>\n",
       "    </tr>\n",
       "  </tbody>\n",
       "</table>\n",
       "</div>"
      ],
      "text/plain": [
       "            Maas       Yas  Calisma Saati\n",
       "Atil   -0.396544  0.024207       0.014544\n",
       "Mehmet -1.016563  1.650002      -1.376315"
      ]
     },
     "execution_count": 42,
     "metadata": {},
     "output_type": "execute_result"
    }
   ],
   "source": [
    "yeniDataFrame[yeniDataFrame[\"Yas\"] > 0]"
   ]
  },
  {
   "cell_type": "markdown",
   "id": "b86e504c",
   "metadata": {},
   "source": [
    "# index degistirme"
   ]
  },
  {
   "cell_type": "code",
   "execution_count": 43,
   "id": "33d821c6",
   "metadata": {},
   "outputs": [
    {
     "data": {
      "text/html": [
       "<div>\n",
       "<style scoped>\n",
       "    .dataframe tbody tr th:only-of-type {\n",
       "        vertical-align: middle;\n",
       "    }\n",
       "\n",
       "    .dataframe tbody tr th {\n",
       "        vertical-align: top;\n",
       "    }\n",
       "\n",
       "    .dataframe thead th {\n",
       "        text-align: right;\n",
       "    }\n",
       "</style>\n",
       "<table border=\"1\" class=\"dataframe\">\n",
       "  <thead>\n",
       "    <tr style=\"text-align: right;\">\n",
       "      <th></th>\n",
       "      <th>index</th>\n",
       "      <th>Maas</th>\n",
       "      <th>Yas</th>\n",
       "      <th>Calisma Saati</th>\n",
       "    </tr>\n",
       "  </thead>\n",
       "  <tbody>\n",
       "    <tr>\n",
       "      <th>0</th>\n",
       "      <td>Atil</td>\n",
       "      <td>-0.396544</td>\n",
       "      <td>0.024207</td>\n",
       "      <td>0.014544</td>\n",
       "    </tr>\n",
       "    <tr>\n",
       "      <th>1</th>\n",
       "      <td>Zeynep</td>\n",
       "      <td>-2.093248</td>\n",
       "      <td>-1.016460</td>\n",
       "      <td>-2.349482</td>\n",
       "    </tr>\n",
       "    <tr>\n",
       "      <th>2</th>\n",
       "      <td>Atlas</td>\n",
       "      <td>0.293190</td>\n",
       "      <td>-0.276441</td>\n",
       "      <td>1.059722</td>\n",
       "    </tr>\n",
       "    <tr>\n",
       "      <th>3</th>\n",
       "      <td>Mehmet</td>\n",
       "      <td>-1.016563</td>\n",
       "      <td>1.650002</td>\n",
       "      <td>-1.376315</td>\n",
       "    </tr>\n",
       "  </tbody>\n",
       "</table>\n",
       "</div>"
      ],
      "text/plain": [
       "    index      Maas       Yas  Calisma Saati\n",
       "0    Atil -0.396544  0.024207       0.014544\n",
       "1  Zeynep -2.093248 -1.016460      -2.349482\n",
       "2   Atlas  0.293190 -0.276441       1.059722\n",
       "3  Mehmet -1.016563  1.650002      -1.376315"
      ]
     },
     "execution_count": 43,
     "metadata": {},
     "output_type": "execute_result"
    }
   ],
   "source": [
    "yeniDataFrame.reset_index()"
   ]
  },
  {
   "cell_type": "code",
   "execution_count": 44,
   "id": "42a6be8b",
   "metadata": {},
   "outputs": [
    {
     "data": {
      "text/html": [
       "<div>\n",
       "<style scoped>\n",
       "    .dataframe tbody tr th:only-of-type {\n",
       "        vertical-align: middle;\n",
       "    }\n",
       "\n",
       "    .dataframe tbody tr th {\n",
       "        vertical-align: top;\n",
       "    }\n",
       "\n",
       "    .dataframe thead th {\n",
       "        text-align: right;\n",
       "    }\n",
       "</style>\n",
       "<table border=\"1\" class=\"dataframe\">\n",
       "  <thead>\n",
       "    <tr style=\"text-align: right;\">\n",
       "      <th></th>\n",
       "      <th>Maas</th>\n",
       "      <th>Yas</th>\n",
       "      <th>Calisma Saati</th>\n",
       "    </tr>\n",
       "  </thead>\n",
       "  <tbody>\n",
       "    <tr>\n",
       "      <th>Atil</th>\n",
       "      <td>-0.396544</td>\n",
       "      <td>0.024207</td>\n",
       "      <td>0.014544</td>\n",
       "    </tr>\n",
       "    <tr>\n",
       "      <th>Zeynep</th>\n",
       "      <td>-2.093248</td>\n",
       "      <td>-1.016460</td>\n",
       "      <td>-2.349482</td>\n",
       "    </tr>\n",
       "    <tr>\n",
       "      <th>Atlas</th>\n",
       "      <td>0.293190</td>\n",
       "      <td>-0.276441</td>\n",
       "      <td>1.059722</td>\n",
       "    </tr>\n",
       "    <tr>\n",
       "      <th>Mehmet</th>\n",
       "      <td>-1.016563</td>\n",
       "      <td>1.650002</td>\n",
       "      <td>-1.376315</td>\n",
       "    </tr>\n",
       "  </tbody>\n",
       "</table>\n",
       "</div>"
      ],
      "text/plain": [
       "            Maas       Yas  Calisma Saati\n",
       "Atil   -0.396544  0.024207       0.014544\n",
       "Zeynep -2.093248 -1.016460      -2.349482\n",
       "Atlas   0.293190 -0.276441       1.059722\n",
       "Mehmet -1.016563  1.650002      -1.376315"
      ]
     },
     "execution_count": 44,
     "metadata": {},
     "output_type": "execute_result"
    }
   ],
   "source": [
    "yeniDataFrame"
   ]
  },
  {
   "cell_type": "code",
   "execution_count": 45,
   "id": "4ce57a7d",
   "metadata": {},
   "outputs": [],
   "source": [
    "yeniIndeksListesi = [\"Ati\",\"Zey\",\"Atl\",\"Meh\"]"
   ]
  },
  {
   "cell_type": "code",
   "execution_count": 46,
   "id": "a63d8a86",
   "metadata": {},
   "outputs": [],
   "source": [
    "yeniDataFrame[\"Yeni Indeks\"] = yeniIndeksListesi"
   ]
  },
  {
   "cell_type": "code",
   "execution_count": 47,
   "id": "b4da1ee4",
   "metadata": {},
   "outputs": [
    {
     "data": {
      "text/html": [
       "<div>\n",
       "<style scoped>\n",
       "    .dataframe tbody tr th:only-of-type {\n",
       "        vertical-align: middle;\n",
       "    }\n",
       "\n",
       "    .dataframe tbody tr th {\n",
       "        vertical-align: top;\n",
       "    }\n",
       "\n",
       "    .dataframe thead th {\n",
       "        text-align: right;\n",
       "    }\n",
       "</style>\n",
       "<table border=\"1\" class=\"dataframe\">\n",
       "  <thead>\n",
       "    <tr style=\"text-align: right;\">\n",
       "      <th></th>\n",
       "      <th>Maas</th>\n",
       "      <th>Yas</th>\n",
       "      <th>Calisma Saati</th>\n",
       "      <th>Yeni Indeks</th>\n",
       "    </tr>\n",
       "  </thead>\n",
       "  <tbody>\n",
       "    <tr>\n",
       "      <th>Atil</th>\n",
       "      <td>-0.396544</td>\n",
       "      <td>0.024207</td>\n",
       "      <td>0.014544</td>\n",
       "      <td>Ati</td>\n",
       "    </tr>\n",
       "    <tr>\n",
       "      <th>Zeynep</th>\n",
       "      <td>-2.093248</td>\n",
       "      <td>-1.016460</td>\n",
       "      <td>-2.349482</td>\n",
       "      <td>Zey</td>\n",
       "    </tr>\n",
       "    <tr>\n",
       "      <th>Atlas</th>\n",
       "      <td>0.293190</td>\n",
       "      <td>-0.276441</td>\n",
       "      <td>1.059722</td>\n",
       "      <td>Atl</td>\n",
       "    </tr>\n",
       "    <tr>\n",
       "      <th>Mehmet</th>\n",
       "      <td>-1.016563</td>\n",
       "      <td>1.650002</td>\n",
       "      <td>-1.376315</td>\n",
       "      <td>Meh</td>\n",
       "    </tr>\n",
       "  </tbody>\n",
       "</table>\n",
       "</div>"
      ],
      "text/plain": [
       "            Maas       Yas  Calisma Saati Yeni Indeks\n",
       "Atil   -0.396544  0.024207       0.014544         Ati\n",
       "Zeynep -2.093248 -1.016460      -2.349482         Zey\n",
       "Atlas   0.293190 -0.276441       1.059722         Atl\n",
       "Mehmet -1.016563  1.650002      -1.376315         Meh"
      ]
     },
     "execution_count": 47,
     "metadata": {},
     "output_type": "execute_result"
    }
   ],
   "source": [
    "yeniDataFrame"
   ]
  },
  {
   "cell_type": "code",
   "execution_count": 48,
   "id": "a6c66753",
   "metadata": {},
   "outputs": [
    {
     "data": {
      "text/html": [
       "<div>\n",
       "<style scoped>\n",
       "    .dataframe tbody tr th:only-of-type {\n",
       "        vertical-align: middle;\n",
       "    }\n",
       "\n",
       "    .dataframe tbody tr th {\n",
       "        vertical-align: top;\n",
       "    }\n",
       "\n",
       "    .dataframe thead th {\n",
       "        text-align: right;\n",
       "    }\n",
       "</style>\n",
       "<table border=\"1\" class=\"dataframe\">\n",
       "  <thead>\n",
       "    <tr style=\"text-align: right;\">\n",
       "      <th></th>\n",
       "      <th>Maas</th>\n",
       "      <th>Yas</th>\n",
       "      <th>Calisma Saati</th>\n",
       "    </tr>\n",
       "    <tr>\n",
       "      <th>Yeni Indeks</th>\n",
       "      <th></th>\n",
       "      <th></th>\n",
       "      <th></th>\n",
       "    </tr>\n",
       "  </thead>\n",
       "  <tbody>\n",
       "    <tr>\n",
       "      <th>Ati</th>\n",
       "      <td>-0.396544</td>\n",
       "      <td>0.024207</td>\n",
       "      <td>0.014544</td>\n",
       "    </tr>\n",
       "    <tr>\n",
       "      <th>Zey</th>\n",
       "      <td>-2.093248</td>\n",
       "      <td>-1.016460</td>\n",
       "      <td>-2.349482</td>\n",
       "    </tr>\n",
       "    <tr>\n",
       "      <th>Atl</th>\n",
       "      <td>0.293190</td>\n",
       "      <td>-0.276441</td>\n",
       "      <td>1.059722</td>\n",
       "    </tr>\n",
       "    <tr>\n",
       "      <th>Meh</th>\n",
       "      <td>-1.016563</td>\n",
       "      <td>1.650002</td>\n",
       "      <td>-1.376315</td>\n",
       "    </tr>\n",
       "  </tbody>\n",
       "</table>\n",
       "</div>"
      ],
      "text/plain": [
       "                 Maas       Yas  Calisma Saati\n",
       "Yeni Indeks                                   \n",
       "Ati         -0.396544  0.024207       0.014544\n",
       "Zey         -2.093248 -1.016460      -2.349482\n",
       "Atl          0.293190 -0.276441       1.059722\n",
       "Meh         -1.016563  1.650002      -1.376315"
      ]
     },
     "execution_count": 48,
     "metadata": {},
     "output_type": "execute_result"
    }
   ],
   "source": [
    "yeniDataFrame.set_index(\"Yeni Indeks\")"
   ]
  },
  {
   "cell_type": "code",
   "execution_count": 49,
   "id": "6f156a37",
   "metadata": {},
   "outputs": [
    {
     "data": {
      "text/html": [
       "<div>\n",
       "<style scoped>\n",
       "    .dataframe tbody tr th:only-of-type {\n",
       "        vertical-align: middle;\n",
       "    }\n",
       "\n",
       "    .dataframe tbody tr th {\n",
       "        vertical-align: top;\n",
       "    }\n",
       "\n",
       "    .dataframe thead th {\n",
       "        text-align: right;\n",
       "    }\n",
       "</style>\n",
       "<table border=\"1\" class=\"dataframe\">\n",
       "  <thead>\n",
       "    <tr style=\"text-align: right;\">\n",
       "      <th></th>\n",
       "      <th>Maas</th>\n",
       "      <th>Yas</th>\n",
       "      <th>Calisma Saati</th>\n",
       "      <th>Yeni Indeks</th>\n",
       "    </tr>\n",
       "  </thead>\n",
       "  <tbody>\n",
       "    <tr>\n",
       "      <th>Atil</th>\n",
       "      <td>-0.396544</td>\n",
       "      <td>0.024207</td>\n",
       "      <td>0.014544</td>\n",
       "      <td>Ati</td>\n",
       "    </tr>\n",
       "    <tr>\n",
       "      <th>Zeynep</th>\n",
       "      <td>-2.093248</td>\n",
       "      <td>-1.016460</td>\n",
       "      <td>-2.349482</td>\n",
       "      <td>Zey</td>\n",
       "    </tr>\n",
       "    <tr>\n",
       "      <th>Atlas</th>\n",
       "      <td>0.293190</td>\n",
       "      <td>-0.276441</td>\n",
       "      <td>1.059722</td>\n",
       "      <td>Atl</td>\n",
       "    </tr>\n",
       "    <tr>\n",
       "      <th>Mehmet</th>\n",
       "      <td>-1.016563</td>\n",
       "      <td>1.650002</td>\n",
       "      <td>-1.376315</td>\n",
       "      <td>Meh</td>\n",
       "    </tr>\n",
       "  </tbody>\n",
       "</table>\n",
       "</div>"
      ],
      "text/plain": [
       "            Maas       Yas  Calisma Saati Yeni Indeks\n",
       "Atil   -0.396544  0.024207       0.014544         Ati\n",
       "Zeynep -2.093248 -1.016460      -2.349482         Zey\n",
       "Atlas   0.293190 -0.276441       1.059722         Atl\n",
       "Mehmet -1.016563  1.650002      -1.376315         Meh"
      ]
     },
     "execution_count": 49,
     "metadata": {},
     "output_type": "execute_result"
    }
   ],
   "source": [
    "yeniDataFrame"
   ]
  },
  {
   "cell_type": "code",
   "execution_count": 50,
   "id": "5cdc9eae",
   "metadata": {},
   "outputs": [],
   "source": [
    "yeniDataFrame.set_index(\"Yeni Indeks\",inplace = True)"
   ]
  },
  {
   "cell_type": "code",
   "execution_count": 51,
   "id": "4e7b4a87",
   "metadata": {},
   "outputs": [
    {
     "data": {
      "text/html": [
       "<div>\n",
       "<style scoped>\n",
       "    .dataframe tbody tr th:only-of-type {\n",
       "        vertical-align: middle;\n",
       "    }\n",
       "\n",
       "    .dataframe tbody tr th {\n",
       "        vertical-align: top;\n",
       "    }\n",
       "\n",
       "    .dataframe thead th {\n",
       "        text-align: right;\n",
       "    }\n",
       "</style>\n",
       "<table border=\"1\" class=\"dataframe\">\n",
       "  <thead>\n",
       "    <tr style=\"text-align: right;\">\n",
       "      <th></th>\n",
       "      <th>Maas</th>\n",
       "      <th>Yas</th>\n",
       "      <th>Calisma Saati</th>\n",
       "    </tr>\n",
       "    <tr>\n",
       "      <th>Yeni Indeks</th>\n",
       "      <th></th>\n",
       "      <th></th>\n",
       "      <th></th>\n",
       "    </tr>\n",
       "  </thead>\n",
       "  <tbody>\n",
       "    <tr>\n",
       "      <th>Ati</th>\n",
       "      <td>-0.396544</td>\n",
       "      <td>0.024207</td>\n",
       "      <td>0.014544</td>\n",
       "    </tr>\n",
       "    <tr>\n",
       "      <th>Zey</th>\n",
       "      <td>-2.093248</td>\n",
       "      <td>-1.016460</td>\n",
       "      <td>-2.349482</td>\n",
       "    </tr>\n",
       "    <tr>\n",
       "      <th>Atl</th>\n",
       "      <td>0.293190</td>\n",
       "      <td>-0.276441</td>\n",
       "      <td>1.059722</td>\n",
       "    </tr>\n",
       "    <tr>\n",
       "      <th>Meh</th>\n",
       "      <td>-1.016563</td>\n",
       "      <td>1.650002</td>\n",
       "      <td>-1.376315</td>\n",
       "    </tr>\n",
       "  </tbody>\n",
       "</table>\n",
       "</div>"
      ],
      "text/plain": [
       "                 Maas       Yas  Calisma Saati\n",
       "Yeni Indeks                                   \n",
       "Ati         -0.396544  0.024207       0.014544\n",
       "Zey         -2.093248 -1.016460      -2.349482\n",
       "Atl          0.293190 -0.276441       1.059722\n",
       "Meh         -1.016563  1.650002      -1.376315"
      ]
     },
     "execution_count": 51,
     "metadata": {},
     "output_type": "execute_result"
    }
   ],
   "source": [
    "yeniDataFrame"
   ]
  },
  {
   "cell_type": "code",
   "execution_count": 52,
   "id": "1351286a",
   "metadata": {},
   "outputs": [
    {
     "data": {
      "text/plain": [
       "Maas            -0.396544\n",
       "Yas              0.024207\n",
       "Calisma Saati    0.014544\n",
       "Name: Ati, dtype: float64"
      ]
     },
     "execution_count": 52,
     "metadata": {},
     "output_type": "execute_result"
    }
   ],
   "source": [
    "yeniDataFrame.loc[\"Ati\"]"
   ]
  },
  {
   "cell_type": "code",
   "execution_count": 53,
   "id": "d7e392fc",
   "metadata": {},
   "outputs": [],
   "source": [
    "ilkIndeksler = [\"Simpson\",\"Simpson\",\"Simpson\",\"SouthPark\",\"SouthPark\",\"SouthPark\"]"
   ]
  },
  {
   "cell_type": "code",
   "execution_count": 54,
   "id": "07434da4",
   "metadata": {},
   "outputs": [],
   "source": [
    "icIndeksler = [\"Homer\",\"Merge\",\"Bart\",\"Carthman\",\"Kenny\",\"Kyle\"]"
   ]
  },
  {
   "cell_type": "code",
   "execution_count": 55,
   "id": "f6c4dd1b",
   "metadata": {},
   "outputs": [],
   "source": [
    "birlesmisIndeks = list(zip(ilkIndeksler,icIndeksler))"
   ]
  },
  {
   "cell_type": "code",
   "execution_count": 56,
   "id": "fd8ce5c0",
   "metadata": {},
   "outputs": [
    {
     "data": {
      "text/plain": [
       "[('Simpson', 'Homer'),\n",
       " ('Simpson', 'Merge'),\n",
       " ('Simpson', 'Bart'),\n",
       " ('SouthPark', 'Carthman'),\n",
       " ('SouthPark', 'Kenny'),\n",
       " ('SouthPark', 'Kyle')]"
      ]
     },
     "execution_count": 56,
     "metadata": {},
     "output_type": "execute_result"
    }
   ],
   "source": [
    "birlesmisIndeks"
   ]
  },
  {
   "cell_type": "code",
   "execution_count": 58,
   "id": "8d5e26a3",
   "metadata": {},
   "outputs": [],
   "source": [
    "birlesmisIndeks = pd.MultiIndex.from_tuples(birlesmisIndeks)"
   ]
  },
  {
   "cell_type": "code",
   "execution_count": 59,
   "id": "852d22ab",
   "metadata": {},
   "outputs": [
    {
     "data": {
      "text/plain": [
       "MultiIndex([(  'Simpson',    'Homer'),\n",
       "            (  'Simpson',    'Merge'),\n",
       "            (  'Simpson',     'Bart'),\n",
       "            ('SouthPark', 'Carthman'),\n",
       "            ('SouthPark',    'Kenny'),\n",
       "            ('SouthPark',     'Kyle')],\n",
       "           )"
      ]
     },
     "execution_count": 59,
     "metadata": {},
     "output_type": "execute_result"
    }
   ],
   "source": [
    "birlesmisIndeks"
   ]
  },
  {
   "cell_type": "code",
   "execution_count": 60,
   "id": "b7671b24",
   "metadata": {},
   "outputs": [
    {
     "data": {
      "text/plain": [
       "pandas.core.indexes.multi.MultiIndex"
      ]
     },
     "execution_count": 60,
     "metadata": {},
     "output_type": "execute_result"
    }
   ],
   "source": [
    "type(birlesmisIndeks)"
   ]
  },
  {
   "cell_type": "code",
   "execution_count": 61,
   "id": "1b2d7dd6",
   "metadata": {},
   "outputs": [],
   "source": [
    "benimCizgiFilmListem =[[10,\"A\"],[20,\"B\"],[30,\"C\"],[35,\"D\"],[23,\"E\"],[19,\"F\"]]"
   ]
  },
  {
   "cell_type": "code",
   "execution_count": 62,
   "id": "ed4bafef",
   "metadata": {},
   "outputs": [],
   "source": [
    "cizgiFilmNumpyDizisi = np.array(benimCizgiFilmListem)"
   ]
  },
  {
   "cell_type": "code",
   "execution_count": 64,
   "id": "97c4d5cf",
   "metadata": {},
   "outputs": [],
   "source": [
    "cizgiFilmDataFrame = pd.DataFrame(cizgiFilmNumpyDizisi,index = birlesmisIndeks, columns = [\"Yas\",\"Meslek\"])"
   ]
  },
  {
   "cell_type": "code",
   "execution_count": 65,
   "id": "a4acac35",
   "metadata": {},
   "outputs": [
    {
     "data": {
      "text/html": [
       "<div>\n",
       "<style scoped>\n",
       "    .dataframe tbody tr th:only-of-type {\n",
       "        vertical-align: middle;\n",
       "    }\n",
       "\n",
       "    .dataframe tbody tr th {\n",
       "        vertical-align: top;\n",
       "    }\n",
       "\n",
       "    .dataframe thead th {\n",
       "        text-align: right;\n",
       "    }\n",
       "</style>\n",
       "<table border=\"1\" class=\"dataframe\">\n",
       "  <thead>\n",
       "    <tr style=\"text-align: right;\">\n",
       "      <th></th>\n",
       "      <th></th>\n",
       "      <th>Yas</th>\n",
       "      <th>Meslek</th>\n",
       "    </tr>\n",
       "  </thead>\n",
       "  <tbody>\n",
       "    <tr>\n",
       "      <th rowspan=\"3\" valign=\"top\">Simpson</th>\n",
       "      <th>Homer</th>\n",
       "      <td>10</td>\n",
       "      <td>A</td>\n",
       "    </tr>\n",
       "    <tr>\n",
       "      <th>Merge</th>\n",
       "      <td>20</td>\n",
       "      <td>B</td>\n",
       "    </tr>\n",
       "    <tr>\n",
       "      <th>Bart</th>\n",
       "      <td>30</td>\n",
       "      <td>C</td>\n",
       "    </tr>\n",
       "    <tr>\n",
       "      <th rowspan=\"3\" valign=\"top\">SouthPark</th>\n",
       "      <th>Carthman</th>\n",
       "      <td>35</td>\n",
       "      <td>D</td>\n",
       "    </tr>\n",
       "    <tr>\n",
       "      <th>Kenny</th>\n",
       "      <td>23</td>\n",
       "      <td>E</td>\n",
       "    </tr>\n",
       "    <tr>\n",
       "      <th>Kyle</th>\n",
       "      <td>19</td>\n",
       "      <td>F</td>\n",
       "    </tr>\n",
       "  </tbody>\n",
       "</table>\n",
       "</div>"
      ],
      "text/plain": [
       "                   Yas Meslek\n",
       "Simpson   Homer     10      A\n",
       "          Merge     20      B\n",
       "          Bart      30      C\n",
       "SouthPark Carthman  35      D\n",
       "          Kenny     23      E\n",
       "          Kyle      19      F"
      ]
     },
     "execution_count": 65,
     "metadata": {},
     "output_type": "execute_result"
    }
   ],
   "source": [
    "cizgiFilmDataFrame"
   ]
  },
  {
   "cell_type": "code",
   "execution_count": 67,
   "id": "91744cda",
   "metadata": {},
   "outputs": [
    {
     "data": {
      "text/html": [
       "<div>\n",
       "<style scoped>\n",
       "    .dataframe tbody tr th:only-of-type {\n",
       "        vertical-align: middle;\n",
       "    }\n",
       "\n",
       "    .dataframe tbody tr th {\n",
       "        vertical-align: top;\n",
       "    }\n",
       "\n",
       "    .dataframe thead th {\n",
       "        text-align: right;\n",
       "    }\n",
       "</style>\n",
       "<table border=\"1\" class=\"dataframe\">\n",
       "  <thead>\n",
       "    <tr style=\"text-align: right;\">\n",
       "      <th></th>\n",
       "      <th>Yas</th>\n",
       "      <th>Meslek</th>\n",
       "    </tr>\n",
       "  </thead>\n",
       "  <tbody>\n",
       "    <tr>\n",
       "      <th>Homer</th>\n",
       "      <td>10</td>\n",
       "      <td>A</td>\n",
       "    </tr>\n",
       "    <tr>\n",
       "      <th>Merge</th>\n",
       "      <td>20</td>\n",
       "      <td>B</td>\n",
       "    </tr>\n",
       "    <tr>\n",
       "      <th>Bart</th>\n",
       "      <td>30</td>\n",
       "      <td>C</td>\n",
       "    </tr>\n",
       "  </tbody>\n",
       "</table>\n",
       "</div>"
      ],
      "text/plain": [
       "      Yas Meslek\n",
       "Homer  10      A\n",
       "Merge  20      B\n",
       "Bart   30      C"
      ]
     },
     "execution_count": 67,
     "metadata": {},
     "output_type": "execute_result"
    }
   ],
   "source": [
    "cizgiFilmDataFrame.loc[\"Simpson\"]"
   ]
  },
  {
   "cell_type": "code",
   "execution_count": 69,
   "id": "644d2234",
   "metadata": {},
   "outputs": [
    {
     "data": {
      "text/plain": [
       "Yas       23\n",
       "Meslek     E\n",
       "Name: Kenny, dtype: object"
      ]
     },
     "execution_count": 69,
     "metadata": {},
     "output_type": "execute_result"
    }
   ],
   "source": [
    "cizgiFilmDataFrame.loc[\"SouthPark\"].loc[\"Kenny\"]"
   ]
  },
  {
   "cell_type": "code",
   "execution_count": 70,
   "id": "2d95e53f",
   "metadata": {},
   "outputs": [],
   "source": [
    "cizgiFilmDataFrame.index.names = [\"Film adı\",\"İsim\"]"
   ]
  },
  {
   "cell_type": "code",
   "execution_count": 71,
   "id": "7907e21f",
   "metadata": {},
   "outputs": [
    {
     "data": {
      "text/html": [
       "<div>\n",
       "<style scoped>\n",
       "    .dataframe tbody tr th:only-of-type {\n",
       "        vertical-align: middle;\n",
       "    }\n",
       "\n",
       "    .dataframe tbody tr th {\n",
       "        vertical-align: top;\n",
       "    }\n",
       "\n",
       "    .dataframe thead th {\n",
       "        text-align: right;\n",
       "    }\n",
       "</style>\n",
       "<table border=\"1\" class=\"dataframe\">\n",
       "  <thead>\n",
       "    <tr style=\"text-align: right;\">\n",
       "      <th></th>\n",
       "      <th></th>\n",
       "      <th>Yas</th>\n",
       "      <th>Meslek</th>\n",
       "    </tr>\n",
       "    <tr>\n",
       "      <th>Film adı</th>\n",
       "      <th>İsim</th>\n",
       "      <th></th>\n",
       "      <th></th>\n",
       "    </tr>\n",
       "  </thead>\n",
       "  <tbody>\n",
       "    <tr>\n",
       "      <th rowspan=\"3\" valign=\"top\">Simpson</th>\n",
       "      <th>Homer</th>\n",
       "      <td>10</td>\n",
       "      <td>A</td>\n",
       "    </tr>\n",
       "    <tr>\n",
       "      <th>Merge</th>\n",
       "      <td>20</td>\n",
       "      <td>B</td>\n",
       "    </tr>\n",
       "    <tr>\n",
       "      <th>Bart</th>\n",
       "      <td>30</td>\n",
       "      <td>C</td>\n",
       "    </tr>\n",
       "    <tr>\n",
       "      <th rowspan=\"3\" valign=\"top\">SouthPark</th>\n",
       "      <th>Carthman</th>\n",
       "      <td>35</td>\n",
       "      <td>D</td>\n",
       "    </tr>\n",
       "    <tr>\n",
       "      <th>Kenny</th>\n",
       "      <td>23</td>\n",
       "      <td>E</td>\n",
       "    </tr>\n",
       "    <tr>\n",
       "      <th>Kyle</th>\n",
       "      <td>19</td>\n",
       "      <td>F</td>\n",
       "    </tr>\n",
       "  </tbody>\n",
       "</table>\n",
       "</div>"
      ],
      "text/plain": [
       "                   Yas Meslek\n",
       "Film adı  İsim               \n",
       "Simpson   Homer     10      A\n",
       "          Merge     20      B\n",
       "          Bart      30      C\n",
       "SouthPark Carthman  35      D\n",
       "          Kenny     23      E\n",
       "          Kyle      19      F"
      ]
     },
     "execution_count": 71,
     "metadata": {},
     "output_type": "execute_result"
    }
   ],
   "source": [
    "cizgiFilmDataFrame"
   ]
  },
  {
   "cell_type": "code",
   "execution_count": null,
   "id": "3dab1887",
   "metadata": {},
   "outputs": [],
   "source": []
  }
 ],
 "metadata": {
  "kernelspec": {
   "display_name": "Python 3 (ipykernel)",
   "language": "python",
   "name": "python3"
  },
  "language_info": {
   "codemirror_mode": {
    "name": "ipython",
    "version": 3
   },
   "file_extension": ".py",
   "mimetype": "text/x-python",
   "name": "python",
   "nbconvert_exporter": "python",
   "pygments_lexer": "ipython3",
   "version": "3.9.7"
  }
 },
 "nbformat": 4,
 "nbformat_minor": 5
}
