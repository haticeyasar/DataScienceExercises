{
 "cells": [
  {
   "cell_type": "code",
   "execution_count": 8,
   "id": "0f519ed9",
   "metadata": {},
   "outputs": [],
   "source": [
    "import numpy as np\n",
    "import matplotlib.pyplot as plt\n",
    "%matplotlib inline"
   ]
  },
  {
   "cell_type": "code",
   "execution_count": 9,
   "id": "f408091a",
   "metadata": {},
   "outputs": [],
   "source": [
    "numpyDizisi1 = np.linspace(0,10,20)"
   ]
  },
  {
   "cell_type": "code",
   "execution_count": 10,
   "id": "c743c8a4",
   "metadata": {},
   "outputs": [
    {
     "data": {
      "text/plain": [
       "array([ 0.        ,  0.52631579,  1.05263158,  1.57894737,  2.10526316,\n",
       "        2.63157895,  3.15789474,  3.68421053,  4.21052632,  4.73684211,\n",
       "        5.26315789,  5.78947368,  6.31578947,  6.84210526,  7.36842105,\n",
       "        7.89473684,  8.42105263,  8.94736842,  9.47368421, 10.        ])"
      ]
     },
     "execution_count": 10,
     "metadata": {},
     "output_type": "execute_result"
    }
   ],
   "source": [
    "numpyDizisi1"
   ]
  },
  {
   "cell_type": "code",
   "execution_count": 11,
   "id": "b50df7b5",
   "metadata": {},
   "outputs": [],
   "source": [
    "numpyDizisi2 = numpyDizisi1 ** 2"
   ]
  },
  {
   "cell_type": "code",
   "execution_count": 12,
   "id": "5363d993",
   "metadata": {},
   "outputs": [
    {
     "ename": "NameError",
     "evalue": "name 'pyt' is not defined",
     "output_type": "error",
     "traceback": [
      "\u001b[1;31m---------------------------------------------------------------------------\u001b[0m",
      "\u001b[1;31mNameError\u001b[0m                                 Traceback (most recent call last)",
      "\u001b[1;32m~\\AppData\\Local\\Temp/ipykernel_12000/2613315146.py\u001b[0m in \u001b[0;36m<module>\u001b[1;34m\u001b[0m\n\u001b[1;32m----> 1\u001b[1;33m \u001b[1;33m(\u001b[0m\u001b[0mbenimFigur\u001b[0m\u001b[1;33m,\u001b[0m\u001b[0mbenimEksen\u001b[0m\u001b[1;33m)\u001b[0m \u001b[1;33m=\u001b[0m \u001b[0mpyt\u001b[0m\u001b[1;33m.\u001b[0m\u001b[0msubplots\u001b[0m\u001b[1;33m(\u001b[0m\u001b[1;33m)\u001b[0m\u001b[1;33m\u001b[0m\u001b[1;33m\u001b[0m\u001b[0m\n\u001b[0m\u001b[0;32m      2\u001b[0m \u001b[0mbenimEksen\u001b[0m\u001b[1;33m.\u001b[0m\u001b[0mplot\u001b[0m\u001b[1;33m(\u001b[0m\u001b[0mnumpyDizisi1\u001b[0m\u001b[1;33m,\u001b[0m\u001b[0mnumpyDizisi2\u001b[0m\u001b[1;33m,\u001b[0m\u001b[1;34m\"g\"\u001b[0m\u001b[1;33m)\u001b[0m\u001b[1;33m\u001b[0m\u001b[1;33m\u001b[0m\u001b[0m\n\u001b[0;32m      3\u001b[0m \u001b[0mbenimEksen\u001b[0m\u001b[1;33m.\u001b[0m\u001b[0mplot\u001b[0m\u001b[1;33m(\u001b[0m\u001b[0mnumpyDizisi2\u001b[0m\u001b[1;33m,\u001b[0m\u001b[0mnumpyDizisi1\u001b[0m\u001b[1;33m,\u001b[0m\u001b[1;34m\"b\"\u001b[0m\u001b[1;33m)\u001b[0m\u001b[1;33m\u001b[0m\u001b[1;33m\u001b[0m\u001b[0m\n",
      "\u001b[1;31mNameError\u001b[0m: name 'pyt' is not defined"
     ]
    }
   ],
   "source": [
    "(benimFigur,benimEksen) = pyt.subplots()\n",
    "benimEksen.plot(numpyDizisi1,numpyDizisi2,\"g\")\n",
    "benimEksen.plot(numpyDizisi2,numpyDizisi1,\"b\")"
   ]
  },
  {
   "cell_type": "code",
   "execution_count": 17,
   "id": "e9b397a6",
   "metadata": {},
   "outputs": [
    {
     "data": {
      "text/plain": [
       "[<matplotlib.lines.Line2D at 0x21f421db700>]"
      ]
     },
     "execution_count": 17,
     "metadata": {},
     "output_type": "execute_result"
    },
    {
     "data": {
      "image/png": "[encoded data removed]",
      "text/plain": [
       "<Figure size 432x288 with 1 Axes>"
      ]
     },
     "metadata": {
      "needs_background": "light"
     },
     "output_type": "display_data"
    }
   ],
   "source": [
    "(yeniFigur,yeniEksen) = plt.subplots()\n",
    "yeniEksen.plot(numpyDizisi1,numpyDizisi1 + 2,color = \"blue\",linewidth=5.0) \n",
    "yeniEksen.plot(numpyDizisi1,numpyDizisi1 + 3,color = \"yellow\",linewidth=6.0) \n",
    "yeniEksen.plot(numpyDizisi1,numpyDizisi1 + 4,color = \"#C96F23\",linestyle=\"--\",marker=\"o\",markersize=8) "
   ]
  },
  {
   "cell_type": "markdown",
   "id": "0c6b426a",
   "metadata": {},
   "source": [
    "# scatter"
   ]
  },
  {
   "cell_type": "code",
   "execution_count": 18,
   "id": "fdae9409",
   "metadata": {},
   "outputs": [
    {
     "data": {
      "text/plain": [
       "<matplotlib.collections.PathCollection at 0x21f4223bb50>"
      ]
     },
     "execution_count": 18,
     "metadata": {},
     "output_type": "execute_result"
    },
    {
     "data": {
      "image/png": "[encoded data removed]",
      "text/plain": [
       "<Figure size 432x288 with 1 Axes>"
      ]
     },
     "metadata": {
      "needs_background": "light"
     },
     "output_type": "display_data"
    }
   ],
   "source": [
    "plt.scatter(numpyDizisi1,numpyDizisi2)"
   ]
  },
  {
   "cell_type": "markdown",
   "id": "ee0f7ae4",
   "metadata": {},
   "source": [
    "# histogram"
   ]
  },
  {
   "cell_type": "code",
   "execution_count": 19,
   "id": "72bbe57c",
   "metadata": {},
   "outputs": [],
   "source": [
    "yeniDizi = np.random.randint(0,100,50)"
   ]
  },
  {
   "cell_type": "code",
   "execution_count": 20,
   "id": "39b9aca3",
   "metadata": {},
   "outputs": [
    {
     "data": {
      "text/plain": [
       "array([95, 51, 89, 27, 37,  0, 29, 85, 32, 18, 56, 32, 40, 53, 67, 28, 21,\n",
       "       22, 50, 19, 29, 79, 43, 39, 43, 64, 82, 98, 19, 31, 42, 66, 58, 88,\n",
       "       43, 19, 54, 57, 98, 79, 64, 16, 41, 57, 35, 82,  0, 54, 24, 99])"
      ]
     },
     "execution_count": 20,
     "metadata": {},
     "output_type": "execute_result"
    }
   ],
   "source": [
    "yeniDizi"
   ]
  },
  {
   "cell_type": "code",
   "execution_count": 21,
   "id": "8178b3a2",
   "metadata": {},
   "outputs": [
    {
     "data": {
      "text/plain": [
       "(array([2., 5., 7., 6., 6., 9., 4., 2., 5., 4.]),\n",
       " array([ 0. ,  9.9, 19.8, 29.7, 39.6, 49.5, 59.4, 69.3, 79.2, 89.1, 99. ]),\n",
       " <BarContainer object of 10 artists>)"
      ]
     },
     "execution_count": 21,
     "metadata": {},
     "output_type": "execute_result"
    },
    {
     "data": {
      "image/png": "[encoded data removed]",
      "text/plain": [
       "<Figure size 432x288 with 1 Axes>"
      ]
     },
     "metadata": {
      "needs_background": "light"
     },
     "output_type": "display_data"
    }
   ],
   "source": [
    "plt.hist(yeniDizi)"
   ]
  },
  {
   "cell_type": "markdown",
   "id": "a06503c4",
   "metadata": {},
   "source": [
    "# boxplot"
   ]
  },
  {
   "cell_type": "code",
   "execution_count": 23,
   "id": "c002bd42",
   "metadata": {},
   "outputs": [
    {
     "data": {
      "text/plain": [
       "{'whiskers': [<matplotlib.lines.Line2D at 0x21f4239b850>,\n",
       "  <matplotlib.lines.Line2D at 0x21f4239bbe0>],\n",
       " 'caps': [<matplotlib.lines.Line2D at 0x21f4239bf70>,\n",
       "  <matplotlib.lines.Line2D at 0x21f423a6340>],\n",
       " 'boxes': [<matplotlib.lines.Line2D at 0x21f4239b4c0>],\n",
       " 'medians': [<matplotlib.lines.Line2D at 0x21f423a66d0>],\n",
       " 'fliers': [<matplotlib.lines.Line2D at 0x21f423a6a60>],\n",
       " 'means': []}"
      ]
     },
     "execution_count": 23,
     "metadata": {},
     "output_type": "execute_result"
    },
    {
     "data": {
      "image/png": "[encoded data removed]",
      "text/plain": [
       "<Figure size 432x288 with 1 Axes>"
      ]
     },
     "metadata": {
      "needs_background": "light"
     },
     "output_type": "display_data"
    }
   ],
   "source": [
    "plt.boxplot(yeniDizi * 2)"
   ]
  },
  {
   "cell_type": "code",
   "execution_count": null,
   "id": "f1e3ae55",
   "metadata": {},
   "outputs": [],
   "source": []
  }
 ],
 "metadata": {
  "kernelspec": {
   "display_name": "Python 3 (ipykernel)",
   "language": "python",
   "name": "python3"
  },
  "language_info": {
   "codemirror_mode": {
    "name": "ipython",
    "version": 3
   },
   "file_extension": ".py",
   "mimetype": "text/x-python",
   "name": "python",
   "nbconvert_exporter": "python",
   "pygments_lexer": "ipython3",
   "version": "3.9.7"
  }
 },
 "nbformat": 4,
 "nbformat_minor": 5
}
