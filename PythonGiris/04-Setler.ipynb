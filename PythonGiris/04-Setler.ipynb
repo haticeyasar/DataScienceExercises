{
 "cells": [
  {
   "cell_type": "code",
   "execution_count": 2,
   "id": "46bdea28",
   "metadata": {},
   "outputs": [],
   "source": [
    "benimListem = [1,2,3,2,1,3,2]"
   ]
  },
  {
   "cell_type": "code",
   "execution_count": 3,
   "id": "d1dbdffa",
   "metadata": {},
   "outputs": [],
   "source": [
    "benimListeSetim = set(benimListem)"
   ]
  },
  {
   "cell_type": "code",
   "execution_count": 4,
   "id": "f3bdea73",
   "metadata": {},
   "outputs": [
    {
     "data": {
      "text/plain": [
       "list"
      ]
     },
     "execution_count": 4,
     "metadata": {},
     "output_type": "execute_result"
    }
   ],
   "source": [
    "type(benimListem)"
   ]
  },
  {
   "cell_type": "code",
   "execution_count": 5,
   "id": "64f50afe",
   "metadata": {},
   "outputs": [
    {
     "data": {
      "text/plain": [
       "set"
      ]
     },
     "execution_count": 5,
     "metadata": {},
     "output_type": "execute_result"
    }
   ],
   "source": [
    "type(benimListeSetim)"
   ]
  },
  {
   "cell_type": "code",
   "execution_count": 6,
   "id": "4a9d7700",
   "metadata": {},
   "outputs": [
    {
     "data": {
      "text/plain": [
       "{1, 2, 3}"
      ]
     },
     "execution_count": 6,
     "metadata": {},
     "output_type": "execute_result"
    }
   ],
   "source": [
    "benimListeSetim"
   ]
  },
  {
   "cell_type": "code",
   "execution_count": 7,
   "id": "cc0e5359",
   "metadata": {},
   "outputs": [],
   "source": [
    "benimSet = {\"a\",\"b\",\"c\"}"
   ]
  },
  {
   "cell_type": "code",
   "execution_count": 8,
   "id": "95ea0760",
   "metadata": {},
   "outputs": [
    {
     "data": {
      "text/plain": [
       "set"
      ]
     },
     "execution_count": 8,
     "metadata": {},
     "output_type": "execute_result"
    }
   ],
   "source": [
    "type(benimSet)"
   ]
  },
  {
   "cell_type": "code",
   "execution_count": 9,
   "id": "66181fa1",
   "metadata": {},
   "outputs": [
    {
     "data": {
      "text/plain": [
       "{'a', 'b', 'c'}"
      ]
     },
     "execution_count": 9,
     "metadata": {},
     "output_type": "execute_result"
    }
   ],
   "source": [
    "benimSet"
   ]
  },
  {
   "cell_type": "code",
   "execution_count": 11,
   "id": "f17677d7",
   "metadata": {},
   "outputs": [],
   "source": [
    "bosListe = []"
   ]
  },
  {
   "cell_type": "code",
   "execution_count": 12,
   "id": "5c27d31f",
   "metadata": {},
   "outputs": [
    {
     "data": {
      "text/plain": [
       "list"
      ]
     },
     "execution_count": 12,
     "metadata": {},
     "output_type": "execute_result"
    }
   ],
   "source": [
    "type(bosListe)"
   ]
  },
  {
   "cell_type": "code",
   "execution_count": 13,
   "id": "f52d7e58",
   "metadata": {},
   "outputs": [
    {
     "data": {
      "text/plain": [
       "[]"
      ]
     },
     "execution_count": 13,
     "metadata": {},
     "output_type": "execute_result"
    }
   ],
   "source": [
    "bosListe"
   ]
  },
  {
   "cell_type": "code",
   "execution_count": 14,
   "id": "299c0301",
   "metadata": {},
   "outputs": [],
   "source": [
    "bosListe.append(1)"
   ]
  },
  {
   "cell_type": "code",
   "execution_count": 15,
   "id": "76a4e97c",
   "metadata": {},
   "outputs": [
    {
     "data": {
      "text/plain": [
       "[1]"
      ]
     },
     "execution_count": 15,
     "metadata": {},
     "output_type": "execute_result"
    }
   ],
   "source": [
    "bosListe"
   ]
  },
  {
   "cell_type": "code",
   "execution_count": 16,
   "id": "833dae4a",
   "metadata": {},
   "outputs": [],
   "source": [
    "bosSet = {}"
   ]
  },
  {
   "cell_type": "code",
   "execution_count": 17,
   "id": "cc84048f",
   "metadata": {},
   "outputs": [
    {
     "data": {
      "text/plain": [
       "dict"
      ]
     },
     "execution_count": 17,
     "metadata": {},
     "output_type": "execute_result"
    }
   ],
   "source": [
    "type(bosSet)"
   ]
  },
  {
   "cell_type": "code",
   "execution_count": 3,
   "id": "56517491",
   "metadata": {},
   "outputs": [],
   "source": [
    "bosSozluk = {}"
   ]
  },
  {
   "cell_type": "code",
   "execution_count": 19,
   "id": "33c5e4c7",
   "metadata": {},
   "outputs": [
    {
     "data": {
      "text/plain": [
       "dict"
      ]
     },
     "execution_count": 19,
     "metadata": {},
     "output_type": "execute_result"
    }
   ],
   "source": [
    "type(bosSozluk)"
   ]
  },
  {
   "cell_type": "code",
   "execution_count": 4,
   "id": "739643fd",
   "metadata": {},
   "outputs": [],
   "source": [
    "bosSozluk[\"anahtar kelime:\"] = 10"
   ]
  },
  {
   "cell_type": "code",
   "execution_count": 5,
   "id": "da5e2bdc",
   "metadata": {},
   "outputs": [
    {
     "data": {
      "text/plain": [
       "{'anahtar kelime:': 10}"
      ]
     },
     "execution_count": 5,
     "metadata": {},
     "output_type": "execute_result"
    }
   ],
   "source": [
    "bosSozluk"
   ]
  },
  {
   "cell_type": "code",
   "execution_count": null,
   "id": "e2a4858d",
   "metadata": {},
   "outputs": [],
   "source": []
  },
  {
   "cell_type": "code",
   "execution_count": 6,
   "id": "141d39c1",
   "metadata": {},
   "outputs": [],
   "source": [
    "benimBosSetim = set()"
   ]
  },
  {
   "cell_type": "code",
   "execution_count": 7,
   "id": "c76033fa",
   "metadata": {},
   "outputs": [
    {
     "data": {
      "text/plain": [
       "set()"
      ]
     },
     "execution_count": 7,
     "metadata": {},
     "output_type": "execute_result"
    }
   ],
   "source": [
    "benimBosSetim"
   ]
  },
  {
   "cell_type": "code",
   "execution_count": 8,
   "id": "f4402fbb",
   "metadata": {},
   "outputs": [],
   "source": [
    "benimBosSetim.add(10)"
   ]
  },
  {
   "cell_type": "code",
   "execution_count": 9,
   "id": "a61fd201",
   "metadata": {},
   "outputs": [],
   "source": [
    "benimBosSetim.add(20)"
   ]
  },
  {
   "cell_type": "code",
   "execution_count": 10,
   "id": "2c4a7ed9",
   "metadata": {},
   "outputs": [
    {
     "data": {
      "text/plain": [
       "{10, 20}"
      ]
     },
     "execution_count": 10,
     "metadata": {},
     "output_type": "execute_result"
    }
   ],
   "source": [
    "benimBosSetim"
   ]
  },
  {
   "cell_type": "code",
   "execution_count": 11,
   "id": "96db29e1",
   "metadata": {},
   "outputs": [],
   "source": [
    "benimBosListem = list()"
   ]
  },
  {
   "cell_type": "code",
   "execution_count": 12,
   "id": "dcdefba8",
   "metadata": {},
   "outputs": [
    {
     "data": {
      "text/plain": [
       "[]"
      ]
     },
     "execution_count": 12,
     "metadata": {},
     "output_type": "execute_result"
    }
   ],
   "source": [
    "benimBosListem"
   ]
  },
  {
   "cell_type": "code",
   "execution_count": 13,
   "id": "168d0993",
   "metadata": {},
   "outputs": [],
   "source": [
    "benimBosListem.append(15)"
   ]
  },
  {
   "cell_type": "code",
   "execution_count": 14,
   "id": "6462702e",
   "metadata": {},
   "outputs": [
    {
     "data": {
      "text/plain": [
       "[15]"
      ]
     },
     "execution_count": 14,
     "metadata": {},
     "output_type": "execute_result"
    }
   ],
   "source": [
    "benimBosListem"
   ]
  },
  {
   "cell_type": "code",
   "execution_count": 15,
   "id": "b44ae040",
   "metadata": {},
   "outputs": [],
   "source": [
    "benimBosSozlugum = dict()"
   ]
  },
  {
   "cell_type": "code",
   "execution_count": 16,
   "id": "edbea124",
   "metadata": {},
   "outputs": [],
   "source": [
    "benimBosSozlugum[\"key\"] = 3234"
   ]
  },
  {
   "cell_type": "code",
   "execution_count": 17,
   "id": "b7ae6aa3",
   "metadata": {},
   "outputs": [
    {
     "data": {
      "text/plain": [
       "{'key': 3234}"
      ]
     },
     "execution_count": 17,
     "metadata": {},
     "output_type": "execute_result"
    }
   ],
   "source": [
    "benimBosSozlugum"
   ]
  },
  {
   "cell_type": "code",
   "execution_count": null,
   "id": "83d30496",
   "metadata": {},
   "outputs": [],
   "source": []
  }
 ],
 "metadata": {
  "kernelspec": {
   "display_name": "Python 3 (ipykernel)",
   "language": "python",
   "name": "python3"
  },
  "language_info": {
   "codemirror_mode": {
    "name": "ipython",
    "version": 3
   },
   "file_extension": ".py",
   "mimetype": "text/x-python",
   "name": "python",
   "nbconvert_exporter": "python",
   "pygments_lexer": "ipython3",
   "version": "3.9.7"
  }
 },
 "nbformat": 4,
 "nbformat_minor": 5
}
