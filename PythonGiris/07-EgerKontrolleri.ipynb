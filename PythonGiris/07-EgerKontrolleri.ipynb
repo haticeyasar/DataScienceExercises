{
 "cells": [
  {
   "cell_type": "code",
   "execution_count": 48,
   "id": "72c7fae9",
   "metadata": {},
   "outputs": [
    {
     "name": "stdout",
     "output_type": "stream",
     "text": [
      "atıl samancıoğlu\n"
     ]
    }
   ],
   "source": [
    "if 4 > 3:\n",
    "    print(\"atıl samancıoğlu\")"
   ]
  },
  {
   "cell_type": "code",
   "execution_count": 49,
   "id": "e102beaa",
   "metadata": {},
   "outputs": [
    {
     "name": "stdout",
     "output_type": "stream",
     "text": [
      "if koşulunun dışına çıktık\n"
     ]
    }
   ],
   "source": [
    "if 4 > 6:\n",
    "    print(\"atıl samancıoğlu\")\n",
    "print(\"if koşulunun dışına çıktık\")"
   ]
  },
  {
   "cell_type": "code",
   "execution_count": 50,
   "id": "a2084385",
   "metadata": {},
   "outputs": [],
   "source": [
    "x = 2"
   ]
  },
  {
   "cell_type": "code",
   "execution_count": 51,
   "id": "33d3f74a",
   "metadata": {},
   "outputs": [],
   "source": [
    "y = 4"
   ]
  },
  {
   "cell_type": "code",
   "execution_count": 52,
   "id": "d5783bec",
   "metadata": {},
   "outputs": [
    {
     "name": "stdout",
     "output_type": "stream",
     "text": [
      "y,x'den daha buyukmus\n"
     ]
    }
   ],
   "source": [
    "if x > y:\n",
    "    print(\"x,y'den buyukmus\")\n",
    "elif y > x:\n",
    "    print(\"y,x'den daha buyukmus\")\n",
    "else:\n",
    "    print(\"x ve y birbirine esittir\")"
   ]
  },
  {
   "cell_type": "code",
   "execution_count": 53,
   "id": "8a279a9e",
   "metadata": {},
   "outputs": [
    {
     "ename": "KeyboardInterrupt",
     "evalue": "Interrupted by user",
     "output_type": "error",
     "traceback": [
      "\u001b[1;31m---------------------------------------------------------------------------\u001b[0m",
      "\u001b[1;31mKeyboardInterrupt\u001b[0m                         Traceback (most recent call last)",
      "Input \u001b[1;32mIn [53]\u001b[0m, in \u001b[0;36m<cell line: 1>\u001b[1;34m()\u001b[0m\n\u001b[1;32m----> 1\u001b[0m benimKahramanim \u001b[38;5;241m=\u001b[39m \u001b[38;5;28;43minput\u001b[39;49m\u001b[43m(\u001b[49m\u001b[38;5;124;43m\"\u001b[39;49m\u001b[38;5;124;43mSuper kahraman seciniz:\u001b[39;49m\u001b[38;5;124;43m\"\u001b[39;49m\u001b[43m)\u001b[49m\n",
      "File \u001b[1;32m~\\anaconda3\\lib\\site-packages\\ipykernel\\kernelbase.py:1075\u001b[0m, in \u001b[0;36mKernel.raw_input\u001b[1;34m(self, prompt)\u001b[0m\n\u001b[0;32m   1071\u001b[0m \u001b[38;5;28;01mif\u001b[39;00m \u001b[38;5;129;01mnot\u001b[39;00m \u001b[38;5;28mself\u001b[39m\u001b[38;5;241m.\u001b[39m_allow_stdin:\n\u001b[0;32m   1072\u001b[0m     \u001b[38;5;28;01mraise\u001b[39;00m StdinNotImplementedError(\n\u001b[0;32m   1073\u001b[0m         \u001b[38;5;124m\"\u001b[39m\u001b[38;5;124mraw_input was called, but this frontend does not support input requests.\u001b[39m\u001b[38;5;124m\"\u001b[39m\n\u001b[0;32m   1074\u001b[0m     )\n\u001b[1;32m-> 1075\u001b[0m \u001b[38;5;28;01mreturn\u001b[39;00m \u001b[38;5;28;43mself\u001b[39;49m\u001b[38;5;241;43m.\u001b[39;49m\u001b[43m_input_request\u001b[49m\u001b[43m(\u001b[49m\n\u001b[0;32m   1076\u001b[0m \u001b[43m    \u001b[49m\u001b[38;5;28;43mstr\u001b[39;49m\u001b[43m(\u001b[49m\u001b[43mprompt\u001b[49m\u001b[43m)\u001b[49m\u001b[43m,\u001b[49m\n\u001b[0;32m   1077\u001b[0m \u001b[43m    \u001b[49m\u001b[38;5;28;43mself\u001b[39;49m\u001b[38;5;241;43m.\u001b[39;49m\u001b[43m_parent_ident\u001b[49m\u001b[43m[\u001b[49m\u001b[38;5;124;43m\"\u001b[39;49m\u001b[38;5;124;43mshell\u001b[39;49m\u001b[38;5;124;43m\"\u001b[39;49m\u001b[43m]\u001b[49m\u001b[43m,\u001b[49m\n\u001b[0;32m   1078\u001b[0m \u001b[43m    \u001b[49m\u001b[38;5;28;43mself\u001b[39;49m\u001b[38;5;241;43m.\u001b[39;49m\u001b[43mget_parent\u001b[49m\u001b[43m(\u001b[49m\u001b[38;5;124;43m\"\u001b[39;49m\u001b[38;5;124;43mshell\u001b[39;49m\u001b[38;5;124;43m\"\u001b[39;49m\u001b[43m)\u001b[49m\u001b[43m,\u001b[49m\n\u001b[0;32m   1079\u001b[0m \u001b[43m    \u001b[49m\u001b[43mpassword\u001b[49m\u001b[38;5;241;43m=\u001b[39;49m\u001b[38;5;28;43;01mFalse\u001b[39;49;00m\u001b[43m,\u001b[49m\n\u001b[0;32m   1080\u001b[0m \u001b[43m\u001b[49m\u001b[43m)\u001b[49m\n",
      "File \u001b[1;32m~\\anaconda3\\lib\\site-packages\\ipykernel\\kernelbase.py:1120\u001b[0m, in \u001b[0;36mKernel._input_request\u001b[1;34m(self, prompt, ident, parent, password)\u001b[0m\n\u001b[0;32m   1117\u001b[0m             \u001b[38;5;28;01mbreak\u001b[39;00m\n\u001b[0;32m   1118\u001b[0m \u001b[38;5;28;01mexcept\u001b[39;00m \u001b[38;5;167;01mKeyboardInterrupt\u001b[39;00m:\n\u001b[0;32m   1119\u001b[0m     \u001b[38;5;66;03m# re-raise KeyboardInterrupt, to truncate traceback\u001b[39;00m\n\u001b[1;32m-> 1120\u001b[0m     \u001b[38;5;28;01mraise\u001b[39;00m \u001b[38;5;167;01mKeyboardInterrupt\u001b[39;00m(\u001b[38;5;124m\"\u001b[39m\u001b[38;5;124mInterrupted by user\u001b[39m\u001b[38;5;124m\"\u001b[39m) \u001b[38;5;28;01mfrom\u001b[39;00m \u001b[38;5;28mNone\u001b[39m\n\u001b[0;32m   1121\u001b[0m \u001b[38;5;28;01mexcept\u001b[39;00m \u001b[38;5;167;01mException\u001b[39;00m:\n\u001b[0;32m   1122\u001b[0m     \u001b[38;5;28mself\u001b[39m\u001b[38;5;241m.\u001b[39mlog\u001b[38;5;241m.\u001b[39mwarning(\u001b[38;5;124m\"\u001b[39m\u001b[38;5;124mInvalid Message:\u001b[39m\u001b[38;5;124m\"\u001b[39m, exc_info\u001b[38;5;241m=\u001b[39m\u001b[38;5;28;01mTrue\u001b[39;00m)\n",
      "\u001b[1;31mKeyboardInterrupt\u001b[0m: Interrupted by user"
     ]
    }
   ],
   "source": [
    "benimKahramanim = input(\"Super kahraman seciniz:\")"
   ]
  },
  {
   "cell_type": "code",
   "execution_count": null,
   "id": "1313e65e",
   "metadata": {},
   "outputs": [],
   "source": [
    "if benimKahramanim == \"Batman\":\n",
    "    print(\"Tebrikler!\")\n",
    "elif benimKahramanim == \"Superman\":\n",
    "    print(\"Keske Batman i secseydiniz\")\n",
    "else:\n",
    "    print(\"Bu kim gerçekten bilmiyorum\")"
   ]
  },
  {
   "cell_type": "code",
   "execution_count": null,
   "id": "12e5aab2",
   "metadata": {},
   "outputs": [],
   "source": [
    "m = 10\n",
    "k = 4\n",
    "l = 5"
   ]
  },
  {
   "cell_type": "code",
   "execution_count": null,
   "id": "9ad86aa8",
   "metadata": {},
   "outputs": [],
   "source": [
    "if m > k or k > l:\n",
    "    print(\"Bu çalıştırılacak mı?\")"
   ]
  },
  {
   "cell_type": "code",
   "execution_count": null,
   "id": "c5945fda",
   "metadata": {},
   "outputs": [],
   "source": [
    "karakterCanli = True"
   ]
  },
  {
   "cell_type": "code",
   "execution_count": null,
   "id": "63e1608c",
   "metadata": {},
   "outputs": [],
   "source": [
    "if karakterCanli == True:\n",
    "    print(\"oyun karakteriniz yasiyor\")\n",
    "else:\n",
    "    print(\"oyun karakteriniz yasamiyor\")"
   ]
  },
  {
   "cell_type": "code",
   "execution_count": null,
   "id": "4b90b11b",
   "metadata": {},
   "outputs": [],
   "source": [
    "benimString = \"Atil Samancioğlu\""
   ]
  },
  {
   "cell_type": "code",
   "execution_count": null,
   "id": "9349adce",
   "metadata": {},
   "outputs": [],
   "source": [
    "if benimString == \"atil samancioglu\":\n",
    "    print(\"esitmis\")\n",
    "else:\n",
    "    print(\"esit degilmis\")"
   ]
  },
  {
   "cell_type": "code",
   "execution_count": 56,
   "id": "4d605ae0",
   "metadata": {},
   "outputs": [
    {
     "name": "stdout",
     "output_type": "stream",
     "text": [
      "yokmus\n"
     ]
    }
   ],
   "source": [
    "if \"Samancioglu\" in benimString:\n",
    "    print(\"varmis\")\n",
    "else:\n",
    "    print(\"yokmus\")"
   ]
  },
  {
   "cell_type": "code",
   "execution_count": 57,
   "id": "8c4dc736",
   "metadata": {},
   "outputs": [],
   "source": [
    "benimListem = [10,20,30,40,50]"
   ]
  },
  {
   "cell_type": "code",
   "execution_count": 59,
   "id": "27de7baf",
   "metadata": {},
   "outputs": [
    {
     "name": "stdout",
     "output_type": "stream",
     "text": [
      "yokmus\n"
     ]
    }
   ],
   "source": [
    "if 29 in benimListem:\n",
    "    print(\"varmis\")\n",
    "else:\n",
    "    print(\"yokmus\")"
   ]
  },
  {
   "cell_type": "code",
   "execution_count": 71,
   "id": "535d27e8",
   "metadata": {},
   "outputs": [],
   "source": [
    "benimSozluk = {\"muz\": 100, \"ananas\": 150 , \"karpuz\": 500}"
   ]
  },
  {
   "cell_type": "code",
   "execution_count": 72,
   "id": "3ae86c4d",
   "metadata": {},
   "outputs": [
    {
     "name": "stdout",
     "output_type": "stream",
     "text": [
      "varmis\n"
     ]
    }
   ],
   "source": [
    "if \"muz\" in benimSozluk.keys():\n",
    "    print(\"varmis\")"
   ]
  },
  {
   "cell_type": "code",
   "execution_count": 74,
   "id": "3cca21a7",
   "metadata": {},
   "outputs": [
    {
     "name": "stdout",
     "output_type": "stream",
     "text": [
      "varmis\n"
     ]
    }
   ],
   "source": [
    "if 150 in benimSozluk.values():\n",
    "    print(\"varmis\")"
   ]
  },
  {
   "cell_type": "code",
   "execution_count": null,
   "id": "64ae5780",
   "metadata": {},
   "outputs": [],
   "source": []
  },
  {
   "cell_type": "code",
   "execution_count": null,
   "id": "43258b6d",
   "metadata": {},
   "outputs": [],
   "source": []
  }
 ],
 "metadata": {
  "kernelspec": {
   "display_name": "Python 3 (ipykernel)",
   "language": "python",
   "name": "python3"
  },
  "language_info": {
   "codemirror_mode": {
    "name": "ipython",
    "version": 3
   },
   "file_extension": ".py",
   "mimetype": "text/x-python",
   "name": "python",
   "nbconvert_exporter": "python",
   "pygments_lexer": "ipython3",
   "version": "3.9.12"
  }
 },
 "nbformat": 4,
 "nbformat_minor": 5
}
