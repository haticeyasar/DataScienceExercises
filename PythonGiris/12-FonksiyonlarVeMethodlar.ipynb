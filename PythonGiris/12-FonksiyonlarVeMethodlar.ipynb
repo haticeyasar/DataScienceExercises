{
 "cells": [
  {
   "cell_type": "code",
   "execution_count": 9,
   "id": "23b1adea",
   "metadata": {},
   "outputs": [],
   "source": [
    "benimAdim = \"atıl samancıoglu\""
   ]
  },
  {
   "cell_type": "code",
   "execution_count": 10,
   "id": "2735f924",
   "metadata": {},
   "outputs": [],
   "source": [
    "benimAdimBuyukHarfli = benimAdim.upper()"
   ]
  },
  {
   "cell_type": "code",
   "execution_count": 11,
   "id": "8831d660",
   "metadata": {},
   "outputs": [
    {
     "data": {
      "text/plain": [
       "'ATIL SAMANCIOGLU'"
      ]
     },
     "execution_count": 11,
     "metadata": {},
     "output_type": "execute_result"
    }
   ],
   "source": [
    "benimAdimBuyukHarfli"
   ]
  },
  {
   "cell_type": "code",
   "execution_count": 12,
   "id": "145eccd5",
   "metadata": {},
   "outputs": [
    {
     "data": {
      "text/plain": [
       "'atıl samancıoglu'"
      ]
     },
     "execution_count": 12,
     "metadata": {},
     "output_type": "execute_result"
    }
   ],
   "source": [
    "benimAdim"
   ]
  },
  {
   "cell_type": "code",
   "execution_count": 14,
   "id": "be40f7ab",
   "metadata": {},
   "outputs": [
    {
     "name": "stdout",
     "output_type": "stream",
     "text": [
      "Help on built-in function upper:\n",
      "\n",
      "upper() method of builtins.str instance\n",
      "    Return a copy of the string converted to uppercase.\n",
      "\n"
     ]
    }
   ],
   "source": [
    "help(benimAdim.upper)"
   ]
  },
  {
   "cell_type": "code",
   "execution_count": 18,
   "id": "776c1c38",
   "metadata": {},
   "outputs": [],
   "source": [
    "def ilkFonksiyon():\n",
    "    print(\"ilk fonksiyonum\")"
   ]
  },
  {
   "cell_type": "code",
   "execution_count": 20,
   "id": "ea8f140f",
   "metadata": {},
   "outputs": [
    {
     "name": "stdout",
     "output_type": "stream",
     "text": [
      "ilk fonksiyonum\n"
     ]
    }
   ],
   "source": [
    "ilkFonksiyon()"
   ]
  },
  {
   "cell_type": "markdown",
   "id": "1f1df6c5",
   "metadata": {},
   "source": [
    "## input &  return"
   ]
  },
  {
   "cell_type": "code",
   "execution_count": 23,
   "id": "d3af9b8a",
   "metadata": {},
   "outputs": [],
   "source": [
    "def merhabaDunya(yazdirilacakİsim):\n",
    "    print(\"merhaba\")\n",
    "    print(yazdirilacakİsim)"
   ]
  },
  {
   "cell_type": "code",
   "execution_count": 25,
   "id": "e022b4af",
   "metadata": {},
   "outputs": [
    {
     "name": "stdout",
     "output_type": "stream",
     "text": [
      "merhaba\n",
      "Atıl\n"
     ]
    }
   ],
   "source": [
    "merhabaDunya(\"Atıl\")"
   ]
  },
  {
   "cell_type": "code",
   "execution_count": 26,
   "id": "4dfc656e",
   "metadata": {},
   "outputs": [
    {
     "name": "stdout",
     "output_type": "stream",
     "text": [
      "merhaba\n",
      "python\n"
     ]
    }
   ],
   "source": [
    "merhabaDunya(\"python\")"
   ]
  },
  {
   "cell_type": "code",
   "execution_count": 30,
   "id": "bff4af0c",
   "metadata": {},
   "outputs": [],
   "source": [
    "def toplama(numara1,numara2):\n",
    "    sonuc = numara1 + numara2\n",
    "    print(sonuc)"
   ]
  },
  {
   "cell_type": "code",
   "execution_count": 31,
   "id": "255dafc6",
   "metadata": {},
   "outputs": [
    {
     "name": "stdout",
     "output_type": "stream",
     "text": [
      "7\n"
     ]
    }
   ],
   "source": [
    "toplama(3,4)"
   ]
  },
  {
   "cell_type": "code",
   "execution_count": 32,
   "id": "525fff35",
   "metadata": {},
   "outputs": [],
   "source": [
    "def superToplama(num1,num2,num3):\n",
    "    print(num1 + num2 + num3)"
   ]
  },
  {
   "cell_type": "code",
   "execution_count": 33,
   "id": "655c0341",
   "metadata": {},
   "outputs": [
    {
     "name": "stdout",
     "output_type": "stream",
     "text": [
      "60\n"
     ]
    }
   ],
   "source": [
    "superToplama(10,20,30)"
   ]
  },
  {
   "cell_type": "code",
   "execution_count": 34,
   "id": "697aa89f",
   "metadata": {},
   "outputs": [
    {
     "name": "stdout",
     "output_type": "stream",
     "text": [
      "30\n"
     ]
    }
   ],
   "source": [
    "yeniDegisken = toplama(10,20)"
   ]
  },
  {
   "cell_type": "code",
   "execution_count": 35,
   "id": "f6040a82",
   "metadata": {},
   "outputs": [
    {
     "name": "stdout",
     "output_type": "stream",
     "text": [
      "None\n"
     ]
    }
   ],
   "source": [
    "print(yeniDegisken)"
   ]
  },
  {
   "cell_type": "code",
   "execution_count": 36,
   "id": "ffd58822",
   "metadata": {},
   "outputs": [
    {
     "data": {
      "text/plain": [
       "NoneType"
      ]
     },
     "execution_count": 36,
     "metadata": {},
     "output_type": "execute_result"
    }
   ],
   "source": [
    "type(yeniDegisken) "
   ]
  },
  {
   "cell_type": "code",
   "execution_count": 37,
   "id": "f5a7b362",
   "metadata": {},
   "outputs": [],
   "source": [
    "def dondurmeliToplama(num1,num2):\n",
    "    return num1 + num2 "
   ]
  },
  {
   "cell_type": "code",
   "execution_count": 39,
   "id": "2f296f71",
   "metadata": {},
   "outputs": [],
   "source": [
    "yeniSonuc = dondurmeliToplama(10,20)"
   ]
  },
  {
   "cell_type": "code",
   "execution_count": 40,
   "id": "cbb88ef9",
   "metadata": {},
   "outputs": [
    {
     "data": {
      "text/plain": [
       "int"
      ]
     },
     "execution_count": 40,
     "metadata": {},
     "output_type": "execute_result"
    }
   ],
   "source": [
    "type(yeniSonuc)"
   ]
  },
  {
   "cell_type": "code",
   "execution_count": 41,
   "id": "17f85729",
   "metadata": {},
   "outputs": [],
   "source": [
    "def kontrolFonksiyon(s):\n",
    "    if s == \"atil\":\n",
    "        print(\"verdiginiz string atil\")\n",
    "    else:\n",
    "        print(\"vediginiz string baska bir sey\")\n",
    "    "
   ]
  },
  {
   "cell_type": "code",
   "execution_count": 42,
   "id": "33c30b64",
   "metadata": {},
   "outputs": [
    {
     "name": "stdout",
     "output_type": "stream",
     "text": [
      "verdiginiz string atil\n"
     ]
    }
   ],
   "source": [
    "kontrolFonksiyon(\"atil\")"
   ]
  },
  {
   "cell_type": "code",
   "execution_count": 43,
   "id": "c8519f8d",
   "metadata": {},
   "outputs": [
    {
     "name": "stdout",
     "output_type": "stream",
     "text": [
      "vediginiz string baska bir sey\n"
     ]
    }
   ],
   "source": [
    "kontrolFonksiyon(\"aylin\")"
   ]
  },
  {
   "cell_type": "markdown",
   "id": "703bf21e",
   "metadata": {},
   "source": [
    "# args & kwargs "
   ]
  },
  {
   "cell_type": "code",
   "execution_count": 44,
   "id": "045a02a2",
   "metadata": {},
   "outputs": [],
   "source": [
    "def yeniToplama(*args):\n",
    "    return(sum(args))"
   ]
  },
  {
   "cell_type": "code",
   "execution_count": 45,
   "id": "4f14e470",
   "metadata": {},
   "outputs": [
    {
     "data": {
      "text/plain": [
       "120"
      ]
     },
     "execution_count": 45,
     "metadata": {},
     "output_type": "execute_result"
    }
   ],
   "source": [
    "yeniToplama(30,40,50)"
   ]
  },
  {
   "cell_type": "code",
   "execution_count": 65,
   "id": "9c8ac544",
   "metadata": {},
   "outputs": [],
   "source": [
    "def benimFonksiyonum(*args):\n",
    "    return(args)"
   ]
  },
  {
   "cell_type": "code",
   "execution_count": 66,
   "id": "f81ebf3c",
   "metadata": {},
   "outputs": [
    {
     "data": {
      "text/plain": [
       "tuple"
      ]
     },
     "execution_count": 66,
     "metadata": {},
     "output_type": "execute_result"
    }
   ],
   "source": [
    "type(benimFonksiyonum(20,30,40))"
   ]
  },
  {
   "cell_type": "code",
   "execution_count": 67,
   "id": "344a55de",
   "metadata": {},
   "outputs": [],
   "source": [
    "def ornekFonksiyon(**kwargs):\n",
    "    return(kwargs)"
   ]
  },
  {
   "cell_type": "code",
   "execution_count": 68,
   "id": "9e79c630",
   "metadata": {},
   "outputs": [
    {
     "data": {
      "text/plain": [
       "{'muz': 100, 'elma': 200, 'ananas': 300}"
      ]
     },
     "execution_count": 68,
     "metadata": {},
     "output_type": "execute_result"
    }
   ],
   "source": [
    "ornekFonksiyon(muz = 100 , elma =200 ,ananas =300)"
   ]
  },
  {
   "cell_type": "code",
   "execution_count": 69,
   "id": "50939405",
   "metadata": {},
   "outputs": [
    {
     "data": {
      "text/plain": [
       "dict"
      ]
     },
     "execution_count": 69,
     "metadata": {},
     "output_type": "execute_result"
    }
   ],
   "source": [
    "type(ornekFonksiyon(muz = 100 , elma =200 ,ananas =300))"
   ]
  },
  {
   "cell_type": "code",
   "execution_count": 70,
   "id": "20478896",
   "metadata": {},
   "outputs": [],
   "source": [
    "def keywordKontrolu(**kwargs):\n",
    "    if \"atil\" in kwargs:\n",
    "        print(\"atil var\")\n",
    "    else:\n",
    "        print(\"atil yok\")\n",
    "        "
   ]
  },
  {
   "cell_type": "code",
   "execution_count": 71,
   "id": "6eab830f",
   "metadata": {},
   "outputs": [
    {
     "name": "stdout",
     "output_type": "stream",
     "text": [
      "atil yok\n"
     ]
    }
   ],
   "source": [
    "keywordKontrolu(ahmet = 70,zeynep =50)"
   ]
  },
  {
   "cell_type": "code",
   "execution_count": null,
   "id": "69c773e0",
   "metadata": {},
   "outputs": [],
   "source": []
  }
 ],
 "metadata": {
  "kernelspec": {
   "display_name": "Python 3 (ipykernel)",
   "language": "python",
   "name": "python3"
  },
  "language_info": {
   "codemirror_mode": {
    "name": "ipython",
    "version": 3
   },
   "file_extension": ".py",
   "mimetype": "text/x-python",
   "name": "python",
   "nbconvert_exporter": "python",
   "pygments_lexer": "ipython3",
   "version": "3.9.12"
  }
 },
 "nbformat": 4,
 "nbformat_minor": 5
}
