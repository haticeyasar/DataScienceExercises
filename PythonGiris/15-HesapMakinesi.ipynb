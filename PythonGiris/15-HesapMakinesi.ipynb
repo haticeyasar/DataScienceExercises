{
 "cells": [
  {
   "cell_type": "code",
   "execution_count": null,
   "id": "347fc549",
   "metadata": {},
   "outputs": [
    {
     "name": "stdout",
     "output_type": "stream",
     "text": [
      "İlk sayiyi giriniz: 54\n",
      "İkinci sayiyi giriniz:  32\n",
      "İsleminizi seciniz: +-*/ 1\n",
      "Lütfen şu işlemlerden birini seçiniz: +-*/ \n",
      "İlk sayiyi giriniz: 23\n",
      "İkinci sayiyi giriniz:  132,\n",
      "Lütfen sayilari düzgün giriniz \n",
      "İlk sayiyi giriniz: 34\n",
      "İkinci sayiyi giriniz:  23\n",
      "İsleminizi seciniz: +-*/ -\n",
      "34 - 23 = 11\n"
     ]
    }
   ],
   "source": [
    "def hesapla(a,b,islem):\n",
    "    \n",
    "    if islem not in \"+-*/\":\n",
    "        return \"Lütfen şu işlemlerden birini seçiniz: +-*/ \"\n",
    "    \n",
    "    if islem == \"+\":\n",
    "        return(str(a) +\" + \" +str(b) +\" = \"+ str(a+b))\n",
    "    if islem == \"-\":\n",
    "        return(str(a) +\" - \" +str(b) +\" = \"+ str(a-b))\n",
    "    if islem == \"*\":\n",
    "        return(str(a) +\" * \" +str(b) +\" = \"+ str(a*b))\n",
    "    if islem == \"/\":\n",
    "        return(str(a) +\" / \" +str(b) +\" = \"+ str(a/b))\n",
    "    \n",
    "while True:\n",
    "    try:\n",
    "        a = int(input(\"İlk sayiyi giriniz: \"))\n",
    "        b = int(input(\"İkinci sayiyi giriniz:  \"))\n",
    "        islem = input(\"İsleminizi seciniz: +-*/ \")\n",
    "        print(hesapla(a,b,islem))\n",
    "    except:\n",
    "        print(\"Lütfen sayilari düzgün giriniz \")"
   ]
  },
  {
   "cell_type": "code",
   "execution_count": null,
   "id": "1e303499",
   "metadata": {},
   "outputs": [],
   "source": []
  },
  {
   "cell_type": "code",
   "execution_count": null,
   "id": "2ef89359",
   "metadata": {},
   "outputs": [],
   "source": [
    "34"
   ]
  }
 ],
 "metadata": {
  "kernelspec": {
   "display_name": "Python 3 (ipykernel)",
   "language": "python",
   "name": "python3"
  },
  "language_info": {
   "codemirror_mode": {
    "name": "ipython",
    "version": 3
   },
   "file_extension": ".py",
   "mimetype": "text/x-python",
   "name": "python",
   "nbconvert_exporter": "python",
   "pygments_lexer": "ipython3",
   "version": "3.9.12"
  }
 },
 "nbformat": 4,
 "nbformat_minor": 5
}
