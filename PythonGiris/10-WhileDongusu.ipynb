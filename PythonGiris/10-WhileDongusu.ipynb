{
 "cells": [
  {
   "cell_type": "code",
   "execution_count": null,
   "id": "196ccf3b",
   "metadata": {},
   "outputs": [],
   "source": []
  },
  {
   "cell_type": "code",
   "execution_count": 11,
   "id": "0dfd7a32",
   "metadata": {},
   "outputs": [
    {
     "name": "stdout",
     "output_type": "stream",
     "text": [
      "0\n",
      "1\n",
      "2\n",
      "3\n",
      "4\n",
      "5\n",
      "6\n",
      "7\n",
      "8\n",
      "9\n"
     ]
    }
   ],
   "source": [
    "x = 0\n",
    "while x < 10:\n",
    "    print(x)\n",
    "    x = x + 1"
   ]
  },
  {
   "cell_type": "code",
   "execution_count": 12,
   "id": "1fe075f2",
   "metadata": {},
   "outputs": [],
   "source": [
    "benimListem = [1,2,3,4,5]"
   ]
  },
  {
   "cell_type": "code",
   "execution_count": 13,
   "id": "0c7d1ba5",
   "metadata": {},
   "outputs": [
    {
     "data": {
      "text/plain": [
       "5"
      ]
     },
     "execution_count": 13,
     "metadata": {},
     "output_type": "execute_result"
    }
   ],
   "source": [
    "benimListem.pop() #son elemanı listeden çıkartır"
   ]
  },
  {
   "cell_type": "code",
   "execution_count": 14,
   "id": "2c95cccf",
   "metadata": {},
   "outputs": [
    {
     "data": {
      "text/plain": [
       "[1, 2, 3, 4]"
      ]
     },
     "execution_count": 14,
     "metadata": {},
     "output_type": "execute_result"
    }
   ],
   "source": [
    "benimListem"
   ]
  },
  {
   "cell_type": "code",
   "execution_count": 15,
   "id": "440bc520",
   "metadata": {},
   "outputs": [],
   "source": [
    "benimListem.append(5)"
   ]
  },
  {
   "cell_type": "code",
   "execution_count": 16,
   "id": "332e7edb",
   "metadata": {},
   "outputs": [
    {
     "data": {
      "text/plain": [
       "True"
      ]
     },
     "execution_count": 16,
     "metadata": {},
     "output_type": "execute_result"
    }
   ],
   "source": [
    " 3 in benimListem"
   ]
  },
  {
   "cell_type": "code",
   "execution_count": 17,
   "id": "0c3685df",
   "metadata": {},
   "outputs": [
    {
     "name": "stdout",
     "output_type": "stream",
     "text": [
      "3 hala listenin içerisinde\n",
      "3 hala listenin içerisinde\n",
      "3 hala listenin içerisinde\n"
     ]
    }
   ],
   "source": [
    "while  3 in benimListem:\n",
    "    print(\"3 hala listenin içerisinde\")\n",
    "    benimListem.pop()\n",
    "    "
   ]
  },
  {
   "cell_type": "code",
   "execution_count": 18,
   "id": "70069cbd",
   "metadata": {},
   "outputs": [
    {
     "name": "stdout",
     "output_type": "stream",
     "text": [
      "0\n",
      "1\n",
      "2\n",
      "3\n"
     ]
    }
   ],
   "source": [
    "numara = 0\n",
    "while numara < 5:\n",
    "    if numara == 4:\n",
    "        break\n",
    "    print(numara)\n",
    "    numara = numara + 1"
   ]
  },
  {
   "cell_type": "code",
   "execution_count": 23,
   "id": "6b759741",
   "metadata": {},
   "outputs": [
    {
     "name": "stdout",
     "output_type": "stream",
     "text": [
      "yeniDegisken in yeni degeri: 0\n",
      "yeniDegisken in yeni degeri: 1\n",
      "yeniDegisken in yeni degeri: 2\n",
      "yeniDegisken in yeni degeri: 3\n",
      "yeniDegisken in yeni degeri: 4\n",
      "yeniDegisken in yeni degeri: 5\n",
      "yeniDegisken in yeni degeri: 6\n",
      "yeniDegisken in yeni degeri: 7\n",
      "yeniDegisken in yeni degeri: 8\n",
      "yeniDegisken in yeni degeri: 9\n",
      "yeniDegisken in yeni degeri: 10\n",
      "yeniDegisken in yeni degeri: 11\n",
      "yeniDegisken in yeni degeri: 12\n",
      "yeniDegisken in yeni degeri: 13\n",
      "yeniDegisken in yeni degeri: 14\n"
     ]
    }
   ],
   "source": [
    "yeniDegisken = 0\n",
    "while yeniDegisken < 15:\n",
    "    #print(\"yeniDegisken in yeni degeri:\" + str(yeniDegisken) )\n",
    "     print(f\"yeniDegisken in yeni degeri: {yeniDegisken}\")\n",
    "     yeniDegisken = yeniDegisken + 1"
   ]
  },
  {
   "cell_type": "code",
   "execution_count": null,
   "id": "afaf43e3",
   "metadata": {},
   "outputs": [],
   "source": []
  }
 ],
 "metadata": {
  "kernelspec": {
   "display_name": "Python 3 (ipykernel)",
   "language": "python",
   "name": "python3"
  },
  "language_info": {
   "codemirror_mode": {
    "name": "ipython",
    "version": 3
   },
   "file_extension": ".py",
   "mimetype": "text/x-python",
   "name": "python",
   "nbconvert_exporter": "python",
   "pygments_lexer": "ipython3",
   "version": "3.9.12"
  }
 },
 "nbformat": 4,
 "nbformat_minor": 5
}
