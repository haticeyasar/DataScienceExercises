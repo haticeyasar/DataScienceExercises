{
 "cells": [
  {
   "cell_type": "code",
   "execution_count": 1,
   "id": "1f5613b9",
   "metadata": {},
   "outputs": [],
   "source": [
    "benimString = \"Hatice Yaşar\""
   ]
  },
  {
   "cell_type": "code",
   "execution_count": 2,
   "id": "e9bbbc1a",
   "metadata": {},
   "outputs": [
    {
     "data": {
      "text/plain": [
       "'i'"
      ]
     },
     "execution_count": 2,
     "metadata": {},
     "output_type": "execute_result"
    }
   ],
   "source": [
    "benimString[3]"
   ]
  },
  {
   "cell_type": "code",
   "execution_count": 3,
   "id": "52e5fb46",
   "metadata": {},
   "outputs": [],
   "source": [
    "#immutability & mutable (değişmezlik)"
   ]
  },
  {
   "cell_type": "code",
   "execution_count": 4,
   "id": "6fd79979",
   "metadata": {},
   "outputs": [],
   "source": [
    "benimListem = [10,20,30,40]"
   ]
  },
  {
   "cell_type": "code",
   "execution_count": 5,
   "id": "251c79e8",
   "metadata": {},
   "outputs": [
    {
     "data": {
      "text/plain": [
       "list"
      ]
     },
     "execution_count": 5,
     "metadata": {},
     "output_type": "execute_result"
    }
   ],
   "source": [
    "type(benimListem)"
   ]
  },
  {
   "cell_type": "code",
   "execution_count": 6,
   "id": "c670c724",
   "metadata": {},
   "outputs": [],
   "source": [
    "benimNumaram = 10\n",
    "digerNumaram = 20"
   ]
  },
  {
   "cell_type": "code",
   "execution_count": 7,
   "id": "39316c44",
   "metadata": {},
   "outputs": [],
   "source": [
    "benimNumaraListem = [benimNumaram,digerNumaram]"
   ]
  },
  {
   "cell_type": "code",
   "execution_count": 8,
   "id": "2fb51730",
   "metadata": {},
   "outputs": [
    {
     "data": {
      "text/plain": [
       "10"
      ]
     },
     "execution_count": 8,
     "metadata": {},
     "output_type": "execute_result"
    }
   ],
   "source": [
    "benimListem[0]"
   ]
  },
  {
   "cell_type": "code",
   "execution_count": 9,
   "id": "81cd7200",
   "metadata": {},
   "outputs": [
    {
     "data": {
      "text/plain": [
       "20"
      ]
     },
     "execution_count": 9,
     "metadata": {},
     "output_type": "execute_result"
    }
   ],
   "source": [
    "benimNumaraListem[1]"
   ]
  },
  {
   "cell_type": "code",
   "execution_count": 10,
   "id": "19afa4cb",
   "metadata": {},
   "outputs": [
    {
     "data": {
      "text/plain": [
       "[10, 20, 30, 40]"
      ]
     },
     "execution_count": 10,
     "metadata": {},
     "output_type": "execute_result"
    }
   ],
   "source": [
    "benimListem"
   ]
  },
  {
   "cell_type": "code",
   "execution_count": 11,
   "id": "f8858cf8",
   "metadata": {},
   "outputs": [],
   "source": [
    "benimListem.append(100)"
   ]
  },
  {
   "cell_type": "code",
   "execution_count": 12,
   "id": "6c4ec0dd",
   "metadata": {},
   "outputs": [
    {
     "data": {
      "text/plain": [
       "[10, 20, 30, 40, 100]"
      ]
     },
     "execution_count": 12,
     "metadata": {},
     "output_type": "execute_result"
    }
   ],
   "source": [
    "benimListem"
   ]
  },
  {
   "cell_type": "code",
   "execution_count": 13,
   "id": "7bd093e4",
   "metadata": {},
   "outputs": [
    {
     "data": {
      "text/plain": [
       "100"
      ]
     },
     "execution_count": 13,
     "metadata": {},
     "output_type": "execute_result"
    }
   ],
   "source": [
    "benimListem.pop()"
   ]
  },
  {
   "cell_type": "code",
   "execution_count": 14,
   "id": "35a8db6b",
   "metadata": {},
   "outputs": [],
   "source": [
    "benimListem.remove(40)"
   ]
  },
  {
   "cell_type": "code",
   "execution_count": 15,
   "id": "5defd1d8",
   "metadata": {},
   "outputs": [
    {
     "data": {
      "text/plain": [
       "[10, 20, 30]"
      ]
     },
     "execution_count": 15,
     "metadata": {},
     "output_type": "execute_result"
    }
   ],
   "source": [
    "benimListem"
   ]
  },
  {
   "cell_type": "code",
   "execution_count": 17,
   "id": "8f94c728",
   "metadata": {},
   "outputs": [
    {
     "data": {
      "text/plain": [
       "1"
      ]
     },
     "execution_count": 17,
     "metadata": {},
     "output_type": "execute_result"
    }
   ],
   "source": [
    "benimListem.count(20)"
   ]
  },
  {
   "cell_type": "code",
   "execution_count": 18,
   "id": "61053d63",
   "metadata": {},
   "outputs": [],
   "source": [
    "benimListem.append(20)"
   ]
  },
  {
   "cell_type": "code",
   "execution_count": 19,
   "id": "92fe23e4",
   "metadata": {},
   "outputs": [],
   "source": [
    "benimStringListem=[\"ahmet\",\"zeynep\",\"seher\"]"
   ]
  },
  {
   "cell_type": "code",
   "execution_count": 21,
   "id": "86177f82",
   "metadata": {},
   "outputs": [],
   "source": [
    "digerListem = [\"salih\",\"derya\",\"merve\"]"
   ]
  },
  {
   "cell_type": "code",
   "execution_count": 22,
   "id": "06804357",
   "metadata": {},
   "outputs": [
    {
     "data": {
      "text/plain": [
       "'merve'"
      ]
     },
     "execution_count": 22,
     "metadata": {},
     "output_type": "execute_result"
    }
   ],
   "source": [
    "digerListem[2]"
   ]
  },
  {
   "cell_type": "code",
   "execution_count": 23,
   "id": "d6a46bab",
   "metadata": {},
   "outputs": [],
   "source": [
    "benimTopListem = benimStringListem + digerListem"
   ]
  },
  {
   "cell_type": "code",
   "execution_count": 24,
   "id": "442c502c",
   "metadata": {},
   "outputs": [
    {
     "data": {
      "text/plain": [
       "['ahmet',\n",
       " 'zeynep',\n",
       " 'seher',\n",
       " 'ahmet',\n",
       " 'zeynep',\n",
       " 'seher',\n",
       " 'ahmet',\n",
       " 'zeynep',\n",
       " 'seher',\n",
       " 'ahmet',\n",
       " 'zeynep',\n",
       " 'seher',\n",
       " 'ahmet',\n",
       " 'zeynep',\n",
       " 'seher']"
      ]
     },
     "execution_count": 24,
     "metadata": {},
     "output_type": "execute_result"
    }
   ],
   "source": [
    "benimStringListem * 5"
   ]
  },
  {
   "cell_type": "code",
   "execution_count": 25,
   "id": "7ed8dbfa",
   "metadata": {},
   "outputs": [],
   "source": [
    "benimTopListem.reverse()"
   ]
  },
  {
   "cell_type": "code",
   "execution_count": 26,
   "id": "e47bf267",
   "metadata": {},
   "outputs": [
    {
     "data": {
      "text/plain": [
       "['merve', 'derya', 'salih', 'seher', 'zeynep', 'ahmet']"
      ]
     },
     "execution_count": 26,
     "metadata": {},
     "output_type": "execute_result"
    }
   ],
   "source": [
    "benimTopListem"
   ]
  },
  {
   "cell_type": "code",
   "execution_count": 27,
   "id": "aaf866fa",
   "metadata": {},
   "outputs": [],
   "source": [
    "karisikListe = [1,2,3.5,\"Merve\",12]"
   ]
  },
  {
   "cell_type": "code",
   "execution_count": 28,
   "id": "f2f929d8",
   "metadata": {},
   "outputs": [
    {
     "data": {
      "text/plain": [
       "list"
      ]
     },
     "execution_count": 28,
     "metadata": {},
     "output_type": "execute_result"
    }
   ],
   "source": [
    "type(karisikListe)"
   ]
  },
  {
   "cell_type": "code",
   "execution_count": 29,
   "id": "c637361a",
   "metadata": {},
   "outputs": [],
   "source": [
    "sonuc  = karisikListe[0]"
   ]
  },
  {
   "cell_type": "code",
   "execution_count": 30,
   "id": "23a9c8b6",
   "metadata": {},
   "outputs": [
    {
     "data": {
      "text/plain": [
       "int"
      ]
     },
     "execution_count": 30,
     "metadata": {},
     "output_type": "execute_result"
    }
   ],
   "source": [
    "type(sonuc)"
   ]
  },
  {
   "cell_type": "code",
   "execution_count": 38,
   "id": "15025a55",
   "metadata": {},
   "outputs": [],
   "source": [
    "nestedList = [1,2,\"ateş\",[2.45,\"z\"],34] #iç içe girmiş list"
   ]
  },
  {
   "cell_type": "code",
   "execution_count": 33,
   "id": "c17774a1",
   "metadata": {},
   "outputs": [
    {
     "data": {
      "text/plain": [
       "[2.45, 'z']"
      ]
     },
     "execution_count": 33,
     "metadata": {},
     "output_type": "execute_result"
    }
   ],
   "source": [
    "nestedList[3]"
   ]
  },
  {
   "cell_type": "code",
   "execution_count": 34,
   "id": "edafaa5a",
   "metadata": {},
   "outputs": [
    {
     "data": {
      "text/plain": [
       "list"
      ]
     },
     "execution_count": 34,
     "metadata": {},
     "output_type": "execute_result"
    }
   ],
   "source": [
    "type(nestedList[3])"
   ]
  },
  {
   "cell_type": "code",
   "execution_count": 39,
   "id": "9836bfbf",
   "metadata": {},
   "outputs": [],
   "source": [
    "zDegiskenimiz = nestedList[3][1]"
   ]
  },
  {
   "cell_type": "code",
   "execution_count": 40,
   "id": "670ee90e",
   "metadata": {},
   "outputs": [
    {
     "data": {
      "text/plain": [
       "'z'"
      ]
     },
     "execution_count": 40,
     "metadata": {},
     "output_type": "execute_result"
    }
   ],
   "source": [
    "zDegiskenimiz"
   ]
  },
  {
   "cell_type": "code",
   "execution_count": 41,
   "id": "b124c435",
   "metadata": {},
   "outputs": [],
   "source": [
    "karmasikListe = [[1,2,3,[\"a\",\"b\"],50],40,20,[\"z\",5.5],[3,[\"a\"]]]"
   ]
  },
  {
   "cell_type": "code",
   "execution_count": 42,
   "id": "a020b231",
   "metadata": {},
   "outputs": [
    {
     "data": {
      "text/plain": [
       "[1, 2, 3, ['a', 'b'], 50]"
      ]
     },
     "execution_count": 42,
     "metadata": {},
     "output_type": "execute_result"
    }
   ],
   "source": [
    "karmasikListe[0]"
   ]
  },
  {
   "cell_type": "code",
   "execution_count": 43,
   "id": "962a8d38",
   "metadata": {},
   "outputs": [
    {
     "data": {
      "text/plain": [
       "['a', 'b']"
      ]
     },
     "execution_count": 43,
     "metadata": {},
     "output_type": "execute_result"
    }
   ],
   "source": [
    "karmasikListe[0][3]"
   ]
  },
  {
   "cell_type": "code",
   "execution_count": 44,
   "id": "dd89c86d",
   "metadata": {},
   "outputs": [],
   "source": [
    "bDegiskenimiz = karmasikListe[0][3][1]"
   ]
  },
  {
   "cell_type": "code",
   "execution_count": 45,
   "id": "e5ab6c22",
   "metadata": {},
   "outputs": [
    {
     "data": {
      "text/plain": [
       "'b'"
      ]
     },
     "execution_count": 45,
     "metadata": {},
     "output_type": "execute_result"
    }
   ],
   "source": [
    "bDegiskenimiz"
   ]
  },
  {
   "cell_type": "code",
   "execution_count": 46,
   "id": "574c06bd",
   "metadata": {},
   "outputs": [
    {
     "data": {
      "text/plain": [
       "[1, 2, 'ateş', [2.45, 'z'], 34]"
      ]
     },
     "execution_count": 46,
     "metadata": {},
     "output_type": "execute_result"
    }
   ],
   "source": [
    "nestedList"
   ]
  },
  {
   "cell_type": "code",
   "execution_count": 47,
   "id": "93c4bc24",
   "metadata": {},
   "outputs": [
    {
     "data": {
      "text/plain": [
       "['ateş', [2.45, 'z'], 34]"
      ]
     },
     "execution_count": 47,
     "metadata": {},
     "output_type": "execute_result"
    }
   ],
   "source": [
    "nestedList[2:]"
   ]
  },
  {
   "cell_type": "code",
   "execution_count": 48,
   "id": "d1b74254",
   "metadata": {},
   "outputs": [
    {
     "data": {
      "text/plain": [
       "list"
      ]
     },
     "execution_count": 48,
     "metadata": {},
     "output_type": "execute_result"
    }
   ],
   "source": [
    "type(nestedList[2:])"
   ]
  },
  {
   "cell_type": "code",
   "execution_count": 49,
   "id": "0b0b4c23",
   "metadata": {},
   "outputs": [
    {
     "data": {
      "text/plain": [
       "str"
      ]
     },
     "execution_count": 49,
     "metadata": {},
     "output_type": "execute_result"
    }
   ],
   "source": [
    "type(nestedList[2])"
   ]
  },
  {
   "cell_type": "code",
   "execution_count": null,
   "id": "e391fdce",
   "metadata": {},
   "outputs": [],
   "source": []
  }
 ],
 "metadata": {
  "kernelspec": {
   "display_name": "Python 3 (ipykernel)",
   "language": "python",
   "name": "python3"
  },
  "language_info": {
   "codemirror_mode": {
    "name": "ipython",
    "version": 3
   },
   "file_extension": ".py",
   "mimetype": "text/x-python",
   "name": "python",
   "nbconvert_exporter": "python",
   "pygments_lexer": "ipython3",
   "version": "3.9.7"
  }
 },
 "nbformat": 4,
 "nbformat_minor": 5
}
